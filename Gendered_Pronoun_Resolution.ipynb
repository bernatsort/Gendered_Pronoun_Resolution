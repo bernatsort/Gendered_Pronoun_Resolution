{
 "cells": [
  {
   "attachments": {},
   "cell_type": "markdown",
   "metadata": {},
   "source": [
    "# *Gendered Pronoun Resolution*\n",
    "\n",
    "En el análisis de texto natural, existen oraciones complejas de entender incluso para las personas. Uno de los casos más conflictivos son los pronombres ambiguos. En 2018, se publicó un dataset junto con el paper [A Balanced Corpus of Gendered Ambiguous Pronouns](https://arxiv.org/pdf/1810.05201.pdf), donde se proponen un conjunto de textos con pronombres ambiguos con género.\n",
    "\n",
    "El objetivo de este dataset es encontrar el nombre en el texto al que el pronombre ambiguo hace referencia.\n",
    "\n",
    "Para ello se nos da un dataset con los siguientes campos:\n",
    "\n",
    "* `ID`: Identificador de la frase.\n",
    "* `Text`: Texto en fromato string.\n",
    "* `Pronoun`: string con el pronombre ambiguo.\n",
    "* `Pronoun-offset`: índice del carácter donde empieza el pronombre dentro del texto.\n",
    "* `A`: string con el primer nombre candidato a hacer referencia por el pronombre.\n",
    "* `A-offset`: índice del carácter donde empieza el nombre A dentro del texto.\n",
    "* `A-coref`: boleano indicando si el pronombre hace referencia al nombre A.\n",
    "* `B`: string con el segundo nombre candidato a hacer referencia por el pronombre.\n",
    "* `B-offset`: índice del carácter donde empieza el nombre B dentro del texto.\n",
    "* `B-coref`: boleano indicando si el pronombre hace referencia al nombre B.\n",
    "* `URL`: web de donde se ha sacado el fragmento de texto.\n",
    "\n",
    "## Objetivo:\n",
    "\n",
    "Hacer una predicción de a cuál de los dos nombres marcados en cada frase hace referencia el pronombre seleccionado usando **dos modelos distintos** de PNL siguiendo el formato descrito a continuación:\n",
    "\n",
    "* **MODELO 1**: Puede ser **cualquier modelo visto en los seminarios de PLN o en otras asignaturas**, como: Count vectorizer, HMM, Structured Perceptron, RNN, Logistic Regressor, XGBoost, etc...\n",
    "\n",
    "    * Justificar el porqué del modelo elegido.\n",
    "    * Entrenar el modelo.\n",
    "    * Dar una accuracy del modelo.\n",
    "    * Interpretar y explicar los resultados del modelo.\n",
    " \n",
    "\n",
    "* **MODELO 2**: Debe ser un modelo **basado en Transformers** que incorpore el concepto de ***attention***.\n",
    "\n",
    "    * Justificar el porqué del modelo elegido.\n",
    "    * Entrenar el modelo.\n",
    "    * Dar una accuracy del modelo.\n",
    "    * Interpretar y explicar los resultados del modelo.    \n",
    "    \n",
    "    \n",
    "\n",
    "\n",
    "\n"
   ]
  },
  {
   "attachments": {},
   "cell_type": "markdown",
   "metadata": {},
   "source": [
    "## Libraries"
   ]
  },
  {
   "cell_type": "code",
   "execution_count": 2,
   "metadata": {},
   "outputs": [],
   "source": [
    "import os\n",
    "import sys\n",
    "\n",
    "import pandas as pd\n",
    "import numpy as np\n",
    "\n",
    "import re\n",
    "import contractions\n",
    "import string \n",
    "import colorama\n",
    "from colorama import Fore"
   ]
  },
  {
   "attachments": {},
   "cell_type": "markdown",
   "metadata": {},
   "source": [
    "## Load data"
   ]
  },
  {
   "cell_type": "code",
   "execution_count": 3,
   "metadata": {},
   "outputs": [
    {
     "name": "stdout",
     "output_type": "stream",
     "text": [
      "['gap-development.tsv', 'gap-test.tsv', 'gap-validation.tsv']\n"
     ]
    }
   ],
   "source": [
    "print(os.listdir(\"./input/gap-coreference-master\"))"
   ]
  },
  {
   "cell_type": "code",
   "execution_count": 4,
   "metadata": {},
   "outputs": [
    {
     "data": {
      "text/plain": [
       "'./input/gap-coreference-master'"
      ]
     },
     "execution_count": 4,
     "metadata": {},
     "output_type": "execute_result"
    }
   ],
   "source": [
    "DATA_ROOT = './input/'\n",
    "GAP_DATA_FOLDER = os.path.join(DATA_ROOT, 'gap-coreference-master')\n",
    "GAP_DATA_FOLDER"
   ]
  },
  {
   "cell_type": "code",
   "execution_count": 5,
   "metadata": {},
   "outputs": [],
   "source": [
    "train_df_path = os.path.join(GAP_DATA_FOLDER, 'gap-development.tsv')\n",
    "test_df_path = os.path.join(GAP_DATA_FOLDER, 'gap-test.tsv')\n",
    "val_df_path = os.path.join(GAP_DATA_FOLDER, 'gap-validation.tsv')\n",
    "\n",
    "train_df = pd.read_csv(train_df_path, sep='\\t') # train_df\n",
    "test_df = pd.read_csv(test_df_path, sep='\\t')\n",
    "val_df = pd.read_csv(val_df_path, sep='\\t')\n"
   ]
  },
  {
   "cell_type": "code",
   "execution_count": 6,
   "metadata": {},
   "outputs": [
    {
     "data": {
      "text/html": [
       "<div>\n",
       "<style scoped>\n",
       "    .dataframe tbody tr th:only-of-type {\n",
       "        vertical-align: middle;\n",
       "    }\n",
       "\n",
       "    .dataframe tbody tr th {\n",
       "        vertical-align: top;\n",
       "    }\n",
       "\n",
       "    .dataframe thead th {\n",
       "        text-align: right;\n",
       "    }\n",
       "</style>\n",
       "<table border=\"1\" class=\"dataframe\">\n",
       "  <thead>\n",
       "    <tr style=\"text-align: right;\">\n",
       "      <th></th>\n",
       "      <th>ID</th>\n",
       "      <th>Text</th>\n",
       "      <th>Pronoun</th>\n",
       "      <th>Pronoun-offset</th>\n",
       "      <th>A</th>\n",
       "      <th>A-offset</th>\n",
       "      <th>A-coref</th>\n",
       "      <th>B</th>\n",
       "      <th>B-offset</th>\n",
       "      <th>B-coref</th>\n",
       "      <th>URL</th>\n",
       "    </tr>\n",
       "  </thead>\n",
       "  <tbody>\n",
       "    <tr>\n",
       "      <th>0</th>\n",
       "      <td>development-1</td>\n",
       "      <td>Zoe Telford -- played the police officer girlf...</td>\n",
       "      <td>her</td>\n",
       "      <td>274</td>\n",
       "      <td>Cheryl Cassidy</td>\n",
       "      <td>191</td>\n",
       "      <td>True</td>\n",
       "      <td>Pauline</td>\n",
       "      <td>207</td>\n",
       "      <td>False</td>\n",
       "      <td>http://en.wikipedia.org/wiki/List_of_Teachers_...</td>\n",
       "    </tr>\n",
       "    <tr>\n",
       "      <th>1</th>\n",
       "      <td>development-2</td>\n",
       "      <td>He grew up in Evanston, Illinois the second ol...</td>\n",
       "      <td>His</td>\n",
       "      <td>284</td>\n",
       "      <td>MacKenzie</td>\n",
       "      <td>228</td>\n",
       "      <td>True</td>\n",
       "      <td>Bernard Leach</td>\n",
       "      <td>251</td>\n",
       "      <td>False</td>\n",
       "      <td>http://en.wikipedia.org/wiki/Warren_MacKenzie</td>\n",
       "    </tr>\n",
       "    <tr>\n",
       "      <th>2</th>\n",
       "      <td>development-3</td>\n",
       "      <td>He had been reelected to Congress, but resigne...</td>\n",
       "      <td>his</td>\n",
       "      <td>265</td>\n",
       "      <td>Angeloz</td>\n",
       "      <td>173</td>\n",
       "      <td>False</td>\n",
       "      <td>De la Sota</td>\n",
       "      <td>246</td>\n",
       "      <td>True</td>\n",
       "      <td>http://en.wikipedia.org/wiki/Jos%C3%A9_Manuel_...</td>\n",
       "    </tr>\n",
       "    <tr>\n",
       "      <th>3</th>\n",
       "      <td>development-4</td>\n",
       "      <td>The current members of Crime have also perform...</td>\n",
       "      <td>his</td>\n",
       "      <td>321</td>\n",
       "      <td>Hell</td>\n",
       "      <td>174</td>\n",
       "      <td>False</td>\n",
       "      <td>Henry Rosenthal</td>\n",
       "      <td>336</td>\n",
       "      <td>True</td>\n",
       "      <td>http://en.wikipedia.org/wiki/Crime_(band)</td>\n",
       "    </tr>\n",
       "    <tr>\n",
       "      <th>4</th>\n",
       "      <td>development-5</td>\n",
       "      <td>Her Santa Fe Opera debut in 2005 was as Nuria ...</td>\n",
       "      <td>She</td>\n",
       "      <td>437</td>\n",
       "      <td>Kitty Oppenheimer</td>\n",
       "      <td>219</td>\n",
       "      <td>False</td>\n",
       "      <td>Rivera</td>\n",
       "      <td>294</td>\n",
       "      <td>True</td>\n",
       "      <td>http://en.wikipedia.org/wiki/Jessica_Rivera</td>\n",
       "    </tr>\n",
       "  </tbody>\n",
       "</table>\n",
       "</div>"
      ],
      "text/plain": [
       "              ID                                               Text Pronoun   \n",
       "0  development-1  Zoe Telford -- played the police officer girlf...     her  \\\n",
       "1  development-2  He grew up in Evanston, Illinois the second ol...     His   \n",
       "2  development-3  He had been reelected to Congress, but resigne...     his   \n",
       "3  development-4  The current members of Crime have also perform...     his   \n",
       "4  development-5  Her Santa Fe Opera debut in 2005 was as Nuria ...     She   \n",
       "\n",
       "   Pronoun-offset                  A  A-offset  A-coref                B   \n",
       "0             274     Cheryl Cassidy       191     True          Pauline  \\\n",
       "1             284          MacKenzie       228     True    Bernard Leach   \n",
       "2             265            Angeloz       173    False       De la Sota   \n",
       "3             321               Hell       174    False  Henry Rosenthal   \n",
       "4             437  Kitty Oppenheimer       219    False           Rivera   \n",
       "\n",
       "   B-offset  B-coref                                                URL  \n",
       "0       207    False  http://en.wikipedia.org/wiki/List_of_Teachers_...  \n",
       "1       251    False      http://en.wikipedia.org/wiki/Warren_MacKenzie  \n",
       "2       246     True  http://en.wikipedia.org/wiki/Jos%C3%A9_Manuel_...  \n",
       "3       336     True          http://en.wikipedia.org/wiki/Crime_(band)  \n",
       "4       294     True        http://en.wikipedia.org/wiki/Jessica_Rivera  "
      ]
     },
     "execution_count": 6,
     "metadata": {},
     "output_type": "execute_result"
    }
   ],
   "source": [
    "train_df.head()"
   ]
  },
  {
   "cell_type": "code",
   "execution_count": 80,
   "metadata": {},
   "outputs": [
    {
     "data": {
      "text/plain": [
       "Text              0\n",
       "Pronoun           0\n",
       "Pronoun-offset    0\n",
       "A                 0\n",
       "A-offset          0\n",
       "B                 0\n",
       "B-offset          0\n",
       "A-coref           0\n",
       "B-coref           0\n",
       "dtype: int64"
      ]
     },
     "execution_count": 80,
     "metadata": {},
     "output_type": "execute_result"
    }
   ],
   "source": [
    "train_df.isnull().sum()"
   ]
  },
  {
   "cell_type": "code",
   "execution_count": 7,
   "metadata": {},
   "outputs": [],
   "source": [
    "# Para visualizar las frases\n",
    "def gap_printer2(data_df_row):\n",
    "        \n",
    "    text   = data_df_row[\"Text\"]\n",
    "    word_A = data_df_row[\"A\"]\n",
    "    word_B = data_df_row[\"B\"]\n",
    "    \n",
    "    pronoun       = data_df_row[\"Pronoun\"]\n",
    "    pronoun_begin = data_df_row[\"Pronoun-offset\"]\n",
    "    pronoun_end   = pronoun_begin + len(pronoun)\n",
    "    \n",
    "    word_A_begin = data_df_row[\"A-offset\"]\n",
    "    word_A_end   = data_df_row[\"A-offset\"] + len(word_A)\n",
    "    word_B_begin = data_df_row[\"B-offset\"]\n",
    "    word_B_end   = data_df_row[\"B-offset\"] + len(word_B)\n",
    "    \n",
    "    text_c = text.replace(word_A, \" {} \")\n",
    "    text_c = text.replace(word_B, \" {} \")\n",
    "    text_c = text.replace(pronoun, \" {} \")\n",
    "    \n",
    "    word_boundaries = np.sort([word_A_begin, word_A_end, pronoun_begin, pronoun_end, word_B_begin, word_B_end])\n",
    "    word_boundaries = list(zip(word_boundaries[::2], word_boundaries[1::2]))\n",
    "    \n",
    "    P1 = [0,word_boundaries[0][0]]\n",
    "    P2 = [word_boundaries[0][1],word_boundaries[1][0]]\n",
    "    P3 = [word_boundaries[1][1],word_boundaries[2][0]]\n",
    "    P4 = [word_boundaries[2][1],len(text)]\n",
    "\n",
    "    text_f = text[P1[0]:P1[1]] + \"{}\" + text[P2[0]:P2[1]] +  \"{}\" + text[P3[0]:P3[1]] + \"{}\" + text[P4[0]:P4[1]]\n",
    " \n",
    "    print(text_f.format( Fore.BLUE  + text[word_boundaries[0][0]:word_boundaries[0][1]]  + Fore.BLACK,\n",
    "                         Fore.BLUE  + text[word_boundaries[1][0]:word_boundaries[1][1]] + Fore.BLACK,\n",
    "                         Fore.BLUE  + text[word_boundaries[2][0]:word_boundaries[2][1]]  + Fore.BLACK))"
   ]
  },
  {
   "cell_type": "code",
   "execution_count": 5,
   "metadata": {},
   "outputs": [
    {
     "name": "stdout",
     "output_type": "stream",
     "text": [
      "The current members of Crime have also performed in San Francisco under the band name ''Remote Viewers``. Strike has published two works of fiction in recent years: Ports of \u001b[34mHell\u001b[30m, which is listed in the Rock and Roll Hall of Fame Library, and A Loud Humming Sound Came from Above. Rank has produced numerous films (under \u001b[34mhis\u001b[30m real name, \u001b[34mHenry Rosenthal\u001b[30m) including the hit The Devil and Daniel Johnston.\n"
     ]
    }
   ],
   "source": [
    "gap_printer2(train_df.loc[3])"
   ]
  },
  {
   "attachments": {},
   "cell_type": "markdown",
   "metadata": {},
   "source": [
    "- El pronombre que tenemos que identificar es `his`. \n",
    "- Tenemos 2 posibles nombres a los que hace referencia: `Hell` y `Henry Rosenthal`.\n"
   ]
  },
  {
   "cell_type": "code",
   "execution_count": 6,
   "metadata": {},
   "outputs": [
    {
     "data": {
      "text/plain": [
       "'http://en.wikipedia.org/wiki/Warren_MacKenzie'"
      ]
     },
     "execution_count": 6,
     "metadata": {},
     "output_type": "execute_result"
    }
   ],
   "source": [
    "# extraemos la URL del segundo elemento del dataset\n",
    "url = train_df[\"URL\"][1]\n",
    "url"
   ]
  },
  {
   "cell_type": "code",
   "execution_count": 8,
   "metadata": {},
   "outputs": [
    {
     "data": {
      "text/plain": [
       "'He grew up in Evanston, Illinois the second oldest of five children including his brothers, Fred and Gordon and sisters, Marge (Peppy) and Marilyn. His high school days were spent at New Trier High School in Winnetka, Illinois. MacKenzie studied with Bernard Leach from 1949 to 1952. His simple, wheel-thrown functional pottery is heavily influenced by the oriental aesthetic of Shoji Hamada and Kanjiro Kawai.'"
      ]
     },
     "execution_count": 8,
     "metadata": {},
     "output_type": "execute_result"
    }
   ],
   "source": [
    "# extraemos el segundo texto del dataset\n",
    "text = train_df[\"Text\"][1]\n",
    "text"
   ]
  },
  {
   "cell_type": "code",
   "execution_count": 9,
   "metadata": {},
   "outputs": [
    {
     "data": {
      "text/plain": [
       "'His'"
      ]
     },
     "execution_count": 9,
     "metadata": {},
     "output_type": "execute_result"
    }
   ],
   "source": [
    "# extraemos el primer pronombre del segundo elemento del dataset\n",
    "pronoun = train_df[\"Pronoun\"][1]\n",
    "pronoun"
   ]
  },
  {
   "cell_type": "code",
   "execution_count": 10,
   "metadata": {},
   "outputs": [
    {
     "data": {
      "text/plain": [
       "284"
      ]
     },
     "execution_count": 10,
     "metadata": {},
     "output_type": "execute_result"
    }
   ],
   "source": [
    "# extraemos el offset del primer pronombre del segundo elemento del dataset\n",
    "pronoun_offset = train_df[\"Pronoun-offset\"][1]\n",
    "pronoun_offset"
   ]
  },
  {
   "cell_type": "code",
   "execution_count": 11,
   "metadata": {},
   "outputs": [
    {
     "data": {
      "text/plain": [
       "'His'"
      ]
     },
     "execution_count": 11,
     "metadata": {},
     "output_type": "execute_result"
    }
   ],
   "source": [
    "# visualizamos de otra forma el pronombre. \n",
    "# A partir de la variable Text, si seleccionamos únicamente la parte que empieza\n",
    "# en el pronoun offset y acaba en el pronoun offset + el tamaño de ese pronombre, \n",
    "# lo que extraemos del texto es el pronombre. \n",
    "text[pronoun_offset:pronoun_offset+len(pronoun)]"
   ]
  },
  {
   "cell_type": "code",
   "execution_count": 12,
   "metadata": {},
   "outputs": [
    {
     "data": {
      "text/plain": [
       "('MacKenzie', 228)"
      ]
     },
     "execution_count": 12,
     "metadata": {},
     "output_type": "execute_result"
    }
   ],
   "source": [
    "# Extraemos el nombre A y el A-offset\n",
    "A = train_df[\"A\"][1]\n",
    "A_offset = train_df[\"A-offset\"][1]\n",
    "A, A_offset"
   ]
  },
  {
   "cell_type": "code",
   "execution_count": 13,
   "metadata": {},
   "outputs": [
    {
     "data": {
      "text/plain": [
       "'MacKenzie'"
      ]
     },
     "execution_count": 13,
     "metadata": {},
     "output_type": "execute_result"
    }
   ],
   "source": [
    "# nombre A\n",
    "text[A_offset:A_offset+len(A)]"
   ]
  },
  {
   "cell_type": "code",
   "execution_count": 14,
   "metadata": {},
   "outputs": [
    {
     "data": {
      "text/plain": [
       "('Bernard Leach', 251)"
      ]
     },
     "execution_count": 14,
     "metadata": {},
     "output_type": "execute_result"
    }
   ],
   "source": [
    "# nombre B y B-offset\n",
    "B = train_df[\"B\"][1]\n",
    "B_offset = train_df[\"B-offset\"][1]\n",
    "B, B_offset"
   ]
  },
  {
   "cell_type": "code",
   "execution_count": 15,
   "metadata": {},
   "outputs": [
    {
     "data": {
      "text/plain": [
       "'Bernard Leach'"
      ]
     },
     "execution_count": 15,
     "metadata": {},
     "output_type": "execute_result"
    }
   ],
   "source": [
    "# nombre B \n",
    "text[B_offset:B_offset+len(B)]"
   ]
  },
  {
   "attachments": {},
   "cell_type": "markdown",
   "metadata": {},
   "source": [
    "## Variable selection"
   ]
  },
  {
   "attachments": {},
   "cell_type": "markdown",
   "metadata": {},
   "source": [
    "Construir el dataframe donde tenemos únicamente las variables más interesantes (la URL no nos hace falta para un problema de procesado de texto)."
   ]
  },
  {
   "cell_type": "code",
   "execution_count": 8,
   "metadata": {},
   "outputs": [],
   "source": [
    "imp_features =[\"Text\", \"Pronoun\", \"Pronoun-offset\", \"A\", \"A-offset\", \"B\", \"B-offset\"]\n",
    "target_col = [\"A-coref\", \"B-coref\"]\n",
    "\n",
    "train_df = train_df[imp_features+target_col]\n",
    "test_df = test_df[imp_features+target_col]\n",
    "val_df = val_df[imp_features+target_col]"
   ]
  },
  {
   "attachments": {},
   "cell_type": "markdown",
   "metadata": {},
   "source": [
    "## Text cleaning "
   ]
  },
  {
   "cell_type": "code",
   "execution_count": 9,
   "metadata": {},
   "outputs": [],
   "source": [
    "###### ESBORRAAAARR ES NOMÉS PER REINICIAL EL CLEANING\n",
    "train_df = pd.read_csv(train_df_path, sep='\\t') # train_df\n",
    "imp_features =[\"Text\", \"Pronoun\", \"Pronoun-offset\", \"A\", \"A-offset\", \"B\", \"B-offset\"]\n",
    "target_col = [\"A-coref\", \"B-coref\"]\n",
    "\n",
    "train_df = train_df[imp_features+target_col]\n"
   ]
  },
  {
   "attachments": {},
   "cell_type": "markdown",
   "metadata": {},
   "source": [
    "### To lower case "
   ]
  },
  {
   "cell_type": "code",
   "execution_count": 10,
   "metadata": {},
   "outputs": [],
   "source": [
    "# To lower case\n",
    "def lower_case(df):\n",
    "    df[\"text_clean\"] = df[\"Text\"].apply(lambda x: x.lower())\n",
    "    df[\"A\"] = df[\"A\"].apply(lambda x: x.lower())\n",
    "    df[\"B\"] = df[\"B\"].apply(lambda x: x.lower())\n",
    "\n",
    "    return df"
   ]
  },
  {
   "cell_type": "code",
   "execution_count": 11,
   "metadata": {},
   "outputs": [
    {
     "data": {
      "text/html": [
       "<div>\n",
       "<style scoped>\n",
       "    .dataframe tbody tr th:only-of-type {\n",
       "        vertical-align: middle;\n",
       "    }\n",
       "\n",
       "    .dataframe tbody tr th {\n",
       "        vertical-align: top;\n",
       "    }\n",
       "\n",
       "    .dataframe thead th {\n",
       "        text-align: right;\n",
       "    }\n",
       "</style>\n",
       "<table border=\"1\" class=\"dataframe\">\n",
       "  <thead>\n",
       "    <tr style=\"text-align: right;\">\n",
       "      <th></th>\n",
       "      <th>Text</th>\n",
       "      <th>Pronoun</th>\n",
       "      <th>Pronoun-offset</th>\n",
       "      <th>A</th>\n",
       "      <th>A-offset</th>\n",
       "      <th>B</th>\n",
       "      <th>B-offset</th>\n",
       "      <th>A-coref</th>\n",
       "      <th>B-coref</th>\n",
       "      <th>text_clean</th>\n",
       "    </tr>\n",
       "  </thead>\n",
       "  <tbody>\n",
       "    <tr>\n",
       "      <th>0</th>\n",
       "      <td>Zoe Telford -- played the police officer girlf...</td>\n",
       "      <td>her</td>\n",
       "      <td>274</td>\n",
       "      <td>cheryl cassidy</td>\n",
       "      <td>191</td>\n",
       "      <td>pauline</td>\n",
       "      <td>207</td>\n",
       "      <td>True</td>\n",
       "      <td>False</td>\n",
       "      <td>zoe telford -- played the police officer girlf...</td>\n",
       "    </tr>\n",
       "    <tr>\n",
       "      <th>1</th>\n",
       "      <td>He grew up in Evanston, Illinois the second ol...</td>\n",
       "      <td>His</td>\n",
       "      <td>284</td>\n",
       "      <td>mackenzie</td>\n",
       "      <td>228</td>\n",
       "      <td>bernard leach</td>\n",
       "      <td>251</td>\n",
       "      <td>True</td>\n",
       "      <td>False</td>\n",
       "      <td>he grew up in evanston, illinois the second ol...</td>\n",
       "    </tr>\n",
       "    <tr>\n",
       "      <th>2</th>\n",
       "      <td>He had been reelected to Congress, but resigne...</td>\n",
       "      <td>his</td>\n",
       "      <td>265</td>\n",
       "      <td>angeloz</td>\n",
       "      <td>173</td>\n",
       "      <td>de la sota</td>\n",
       "      <td>246</td>\n",
       "      <td>False</td>\n",
       "      <td>True</td>\n",
       "      <td>he had been reelected to congress, but resigne...</td>\n",
       "    </tr>\n",
       "    <tr>\n",
       "      <th>3</th>\n",
       "      <td>The current members of Crime have also perform...</td>\n",
       "      <td>his</td>\n",
       "      <td>321</td>\n",
       "      <td>hell</td>\n",
       "      <td>174</td>\n",
       "      <td>henry rosenthal</td>\n",
       "      <td>336</td>\n",
       "      <td>False</td>\n",
       "      <td>True</td>\n",
       "      <td>the current members of crime have also perform...</td>\n",
       "    </tr>\n",
       "    <tr>\n",
       "      <th>4</th>\n",
       "      <td>Her Santa Fe Opera debut in 2005 was as Nuria ...</td>\n",
       "      <td>She</td>\n",
       "      <td>437</td>\n",
       "      <td>kitty oppenheimer</td>\n",
       "      <td>219</td>\n",
       "      <td>rivera</td>\n",
       "      <td>294</td>\n",
       "      <td>False</td>\n",
       "      <td>True</td>\n",
       "      <td>her santa fe opera debut in 2005 was as nuria ...</td>\n",
       "    </tr>\n",
       "  </tbody>\n",
       "</table>\n",
       "</div>"
      ],
      "text/plain": [
       "                                                Text Pronoun  Pronoun-offset   \n",
       "0  Zoe Telford -- played the police officer girlf...     her             274  \\\n",
       "1  He grew up in Evanston, Illinois the second ol...     His             284   \n",
       "2  He had been reelected to Congress, but resigne...     his             265   \n",
       "3  The current members of Crime have also perform...     his             321   \n",
       "4  Her Santa Fe Opera debut in 2005 was as Nuria ...     She             437   \n",
       "\n",
       "                   A  A-offset                B  B-offset  A-coref  B-coref   \n",
       "0     cheryl cassidy       191          pauline       207     True    False  \\\n",
       "1          mackenzie       228    bernard leach       251     True    False   \n",
       "2            angeloz       173       de la sota       246    False     True   \n",
       "3               hell       174  henry rosenthal       336    False     True   \n",
       "4  kitty oppenheimer       219           rivera       294    False     True   \n",
       "\n",
       "                                          text_clean  \n",
       "0  zoe telford -- played the police officer girlf...  \n",
       "1  he grew up in evanston, illinois the second ol...  \n",
       "2  he had been reelected to congress, but resigne...  \n",
       "3  the current members of crime have also perform...  \n",
       "4  her santa fe opera debut in 2005 was as nuria ...  "
      ]
     },
     "execution_count": 11,
     "metadata": {},
     "output_type": "execute_result"
    }
   ],
   "source": [
    "train_df_clean = lower_case(train_df)\n",
    "train_df_clean.head()"
   ]
  },
  {
   "attachments": {},
   "cell_type": "markdown",
   "metadata": {},
   "source": [
    "### Expand the contractions"
   ]
  },
  {
   "cell_type": "code",
   "execution_count": 12,
   "metadata": {},
   "outputs": [],
   "source": [
    "def expand_contractions(df):\n",
    "    df[\"text_clean\"] = df[\"text_clean\"].apply(lambda x: contractions.fix(x))\n",
    "    return df"
   ]
  },
  {
   "cell_type": "code",
   "execution_count": 13,
   "metadata": {},
   "outputs": [
    {
     "name": "stdout",
     "output_type": "stream",
     "text": [
      "Zoe Telford -- played the police officer girlfriend of Simon, Maggie. Dumped by Simon in the final episode of series 1, after he slept with Jenny, and is not seen again. Phoebe Thomas played Cheryl Cassidy, Pauline's friend and also a year 11 pupil in Simon's class. Dumped her boyfriend following Simon's advice after he wouldn't have sex with her but later realised this was due to him catching crabs off her friend Pauline.\n",
      "zoe telford -- played the police officer girlfriend of simon, maggie. dumped by simon in the final episode of series 1, after he slept with jenny, and is not seen again. phoebe thomas played cheryl cassidy, pauline's friend and also a year 11 pupil in simon's class. dumped her boyfriend following simon's advice after he would not have sex with her but later realised this was due to him catching crabs off her friend pauline.\n",
      "Re-elected in the 2007 election, she was re-named the Minister of International Relations, La Francophonie and for the Estrie Region as well as the Vice-Chair of the Treasury Board. Following her 2008 re-election, Gagnon-Tremblay gave up for portfolio of International Relations to Pierre Arcand but was given the position of President of the Treasury Board previously occupied by Monique Jerome-Forget who was also responsible for the portfolio of finances. She was given Jerome-Forget's government administration portfolio duties until 2010.\n",
      "re-elected in the 2007 election, she was re-named the minister of international relations, la francophonie and for the estrie region as well as the vice-chair of the treasury board. following her 2008 re-election, gagnon-tremblay gave up for portfolio of international relations to pierre arcand but was given the position of president of the treasury board previously occupied by monique jerome-forget who was also responsible for the portfolio of finances. she was given jerome-forget's government administration portfolio duties until 2010.\n"
     ]
    }
   ],
   "source": [
    "train_df_clean = expand_contractions(train_df_clean)\n",
    "# double check\n",
    "print(train_df_clean[\"Text\"][0])\n",
    "print(train_df_clean[\"text_clean\"][0])\n",
    "print(train_df_clean[\"Text\"][100])\n",
    "print(train_df_clean[\"text_clean\"][100])"
   ]
  },
  {
   "attachments": {},
   "cell_type": "markdown",
   "metadata": {},
   "source": [
    "### Remove non-characters and URLs "
   ]
  },
  {
   "cell_type": "code",
   "execution_count": 14,
   "metadata": {},
   "outputs": [],
   "source": [
    "def remove_non_ascii_characters(df, col='text_clean'):\n",
    "    df[col] = df[col].apply(lambda text: re.sub(r'[^\\x00-\\x7f]', r'', text)) # get rid of non-characters and whitespace\n",
    "    return df"
   ]
  },
  {
   "cell_type": "code",
   "execution_count": 15,
   "metadata": {},
   "outputs": [
    {
     "name": "stdout",
     "output_type": "stream",
     "text": [
      "Zoe Telford -- played the police officer girlfriend of Simon, Maggie. Dumped by Simon in the final episode of series 1, after he slept with Jenny, and is not seen again. Phoebe Thomas played Cheryl Cassidy, Pauline's friend and also a year 11 pupil in Simon's class. Dumped her boyfriend following Simon's advice after he wouldn't have sex with her but later realised this was due to him catching crabs off her friend Pauline.\n",
      "zoe telford -- played the police officer girlfriend of simon, maggie. dumped by simon in the final episode of series 1, after he slept with jenny, and is not seen again. phoebe thomas played cheryl cassidy, pauline's friend and also a year 11 pupil in simon's class. dumped her boyfriend following simon's advice after he would not have sex with her but later realised this was due to him catching crabs off her friend pauline.\n",
      "Re-elected in the 2007 election, she was re-named the Minister of International Relations, La Francophonie and for the Estrie Region as well as the Vice-Chair of the Treasury Board. Following her 2008 re-election, Gagnon-Tremblay gave up for portfolio of International Relations to Pierre Arcand but was given the position of President of the Treasury Board previously occupied by Monique Jerome-Forget who was also responsible for the portfolio of finances. She was given Jerome-Forget's government administration portfolio duties until 2010.\n",
      "re-elected in the 2007 election, she was re-named the minister of international relations, la francophonie and for the estrie region as well as the vice-chair of the treasury board. following her 2008 re-election, gagnon-tremblay gave up for portfolio of international relations to pierre arcand but was given the position of president of the treasury board previously occupied by monique jerome-forget who was also responsible for the portfolio of finances. she was given jerome-forget's government administration portfolio duties until 2010.\n"
     ]
    }
   ],
   "source": [
    "train_df_clean = remove_non_ascii_characters(train_df_clean)\n",
    "\n",
    "# double check\n",
    "print(train_df_clean[\"Text\"][0])\n",
    "print(train_df_clean[\"text_clean\"][0])\n",
    "print(train_df_clean[\"Text\"][100])\n",
    "print(train_df_clean[\"text_clean\"][100])"
   ]
  },
  {
   "cell_type": "code",
   "execution_count": 16,
   "metadata": {},
   "outputs": [],
   "source": [
    "def remove_punctuations(df, col='text_clean'):\n",
    "    \"\"\"\n",
    "     - str.maketrans('', '', string.punctuation) crea un traductor utilizando maketrans \n",
    "       que mapea los caracteres de puntuación a None, es decir, los elimina.\n",
    "     - string.punctuation es una cadena predefinida en el módulo string que contiene todos \n",
    "       los caracteres de puntuación.\n",
    "     - text.translate(translator) aplica el traductor al texto, reemplazando las puntuaciones \n",
    "       con caracteres vacíos, lo que efectivamente las elimina.\n",
    "    \"\"\"\n",
    "    df[col] = df[col].apply(lambda text: text.translate(str.maketrans('', '', string.punctuation)))\n",
    "    # return re.sub(r'[]!\"$%&\\'()*+,./:;=#@?[\\\\^_`{|}~-]+', \"\", text)\n",
    "    return df"
   ]
  },
  {
   "cell_type": "code",
   "execution_count": 17,
   "metadata": {},
   "outputs": [
    {
     "name": "stdout",
     "output_type": "stream",
     "text": [
      "Zoe Telford -- played the police officer girlfriend of Simon, Maggie. Dumped by Simon in the final episode of series 1, after he slept with Jenny, and is not seen again. Phoebe Thomas played Cheryl Cassidy, Pauline's friend and also a year 11 pupil in Simon's class. Dumped her boyfriend following Simon's advice after he wouldn't have sex with her but later realised this was due to him catching crabs off her friend Pauline.\n",
      "zoe telford  played the police officer girlfriend of simon maggie dumped by simon in the final episode of series 1 after he slept with jenny and is not seen again phoebe thomas played cheryl cassidy paulines friend and also a year 11 pupil in simons class dumped her boyfriend following simons advice after he would not have sex with her but later realised this was due to him catching crabs off her friend pauline\n",
      "Re-elected in the 2007 election, she was re-named the Minister of International Relations, La Francophonie and for the Estrie Region as well as the Vice-Chair of the Treasury Board. Following her 2008 re-election, Gagnon-Tremblay gave up for portfolio of International Relations to Pierre Arcand but was given the position of President of the Treasury Board previously occupied by Monique Jerome-Forget who was also responsible for the portfolio of finances. She was given Jerome-Forget's government administration portfolio duties until 2010.\n",
      "reelected in the 2007 election she was renamed the minister of international relations la francophonie and for the estrie region as well as the vicechair of the treasury board following her 2008 reelection gagnontremblay gave up for portfolio of international relations to pierre arcand but was given the position of president of the treasury board previously occupied by monique jeromeforget who was also responsible for the portfolio of finances she was given jeromeforgets government administration portfolio duties until 2010\n"
     ]
    }
   ],
   "source": [
    "train_df_clean = remove_punctuations(train_df_clean)\n",
    "# double check\n",
    "print(train_df_clean[\"Text\"][0])\n",
    "print(train_df_clean[\"text_clean\"][0])\n",
    "print(train_df_clean[\"Text\"][100])\n",
    "print(train_df_clean[\"text_clean\"][100])"
   ]
  },
  {
   "attachments": {},
   "cell_type": "markdown",
   "metadata": {},
   "source": [
    "## Text Preprocessing "
   ]
  },
  {
   "cell_type": "code",
   "execution_count": null,
   "metadata": {},
   "outputs": [],
   "source": [
    "# def fast_encode(texts, tokenizer, chunk_size=256, maxlen=128):\n",
    "#     tokenizer.enable_truncation(max_lenght=maxlen)\n",
    "#     tokenizer.enable_padding(max_lenght=maxlen)\n",
    "\n",
    "#     all_ids = []\n",
    "\n",
    "#     for i in range(0, len(texts),chunk_size):\n",
    "#         text_chunk = texts[i:i+chunk_size].to_list()\n",
    "#         encs = tokenizer.encode_batch(text_chunk)\n",
    "#         all_ids.extend([enc.ids for enc in encs])\n",
    "    \n",
    "#     return np.array(all_ids)\n"
   ]
  },
  {
   "attachments": {},
   "cell_type": "markdown",
   "metadata": {},
   "source": [
    "### Tokenization "
   ]
  },
  {
   "cell_type": "code",
   "execution_count": 18,
   "metadata": {},
   "outputs": [
    {
     "name": "stderr",
     "output_type": "stream",
     "text": [
      "[nltk_data] Downloading package punkt to\n",
      "[nltk_data]     /Users/bernatsort/nltk_data...\n",
      "[nltk_data]   Package punkt is already up-to-date!\n"
     ]
    }
   ],
   "source": [
    "import nltk\n",
    "nltk.download('punkt') # word_tokenize\n",
    "from nltk.tokenize import word_tokenize"
   ]
  },
  {
   "cell_type": "code",
   "execution_count": 19,
   "metadata": {},
   "outputs": [
    {
     "name": "stdout",
     "output_type": "stream",
     "text": [
      "Zoe Telford -- played the police officer girlfriend of Simon, Maggie. Dumped by Simon in the final episode of series 1, after he slept with Jenny, and is not seen again. Phoebe Thomas played Cheryl Cassidy, Pauline's friend and also a year 11 pupil in Simon's class. Dumped her boyfriend following Simon's advice after he wouldn't have sex with her but later realised this was due to him catching crabs off her friend Pauline.\n",
      "['zoe', 'telford', 'played', 'the', 'police', 'officer', 'girlfriend', 'of', 'simon', 'maggie', 'dumped', 'by', 'simon', 'in', 'the', 'final', 'episode', 'of', 'series', '1', 'after', 'he', 'slept', 'with', 'jenny', 'and', 'is', 'not', 'seen', 'again', 'phoebe', 'thomas', 'played', 'cheryl', 'cassidy', 'paulines', 'friend', 'and', 'also', 'a', 'year', '11', 'pupil', 'in', 'simons', 'class', 'dumped', 'her', 'boyfriend', 'following', 'simons', 'advice', 'after', 'he', 'would', 'not', 'have', 'sex', 'with', 'her', 'but', 'later', 'realised', 'this', 'was', 'due', 'to', 'him', 'catching', 'crabs', 'off', 'her', 'friend', 'pauline']\n",
      "Re-elected in the 2007 election, she was re-named the Minister of International Relations, La Francophonie and for the Estrie Region as well as the Vice-Chair of the Treasury Board. Following her 2008 re-election, Gagnon-Tremblay gave up for portfolio of International Relations to Pierre Arcand but was given the position of President of the Treasury Board previously occupied by Monique Jerome-Forget who was also responsible for the portfolio of finances. She was given Jerome-Forget's government administration portfolio duties until 2010.\n",
      "['reelected', 'in', 'the', '2007', 'election', 'she', 'was', 'renamed', 'the', 'minister', 'of', 'international', 'relations', 'la', 'francophonie', 'and', 'for', 'the', 'estrie', 'region', 'as', 'well', 'as', 'the', 'vicechair', 'of', 'the', 'treasury', 'board', 'following', 'her', '2008', 'reelection', 'gagnontremblay', 'gave', 'up', 'for', 'portfolio', 'of', 'international', 'relations', 'to', 'pierre', 'arcand', 'but', 'was', 'given', 'the', 'position', 'of', 'president', 'of', 'the', 'treasury', 'board', 'previously', 'occupied', 'by', 'monique', 'jeromeforget', 'who', 'was', 'also', 'responsible', 'for', 'the', 'portfolio', 'of', 'finances', 'she', 'was', 'given', 'jeromeforgets', 'government', 'administration', 'portfolio', 'duties', 'until', '2010']\n"
     ]
    },
    {
     "data": {
      "text/html": [
       "<div>\n",
       "<style scoped>\n",
       "    .dataframe tbody tr th:only-of-type {\n",
       "        vertical-align: middle;\n",
       "    }\n",
       "\n",
       "    .dataframe tbody tr th {\n",
       "        vertical-align: top;\n",
       "    }\n",
       "\n",
       "    .dataframe thead th {\n",
       "        text-align: right;\n",
       "    }\n",
       "</style>\n",
       "<table border=\"1\" class=\"dataframe\">\n",
       "  <thead>\n",
       "    <tr style=\"text-align: right;\">\n",
       "      <th></th>\n",
       "      <th>Text</th>\n",
       "      <th>Pronoun</th>\n",
       "      <th>Pronoun-offset</th>\n",
       "      <th>A</th>\n",
       "      <th>A-offset</th>\n",
       "      <th>B</th>\n",
       "      <th>B-offset</th>\n",
       "      <th>A-coref</th>\n",
       "      <th>B-coref</th>\n",
       "      <th>text_clean</th>\n",
       "      <th>tokenized</th>\n",
       "    </tr>\n",
       "  </thead>\n",
       "  <tbody>\n",
       "    <tr>\n",
       "      <th>0</th>\n",
       "      <td>Zoe Telford -- played the police officer girlf...</td>\n",
       "      <td>her</td>\n",
       "      <td>274</td>\n",
       "      <td>cheryl cassidy</td>\n",
       "      <td>191</td>\n",
       "      <td>pauline</td>\n",
       "      <td>207</td>\n",
       "      <td>True</td>\n",
       "      <td>False</td>\n",
       "      <td>zoe telford  played the police officer girlfri...</td>\n",
       "      <td>[zoe, telford, played, the, police, officer, g...</td>\n",
       "    </tr>\n",
       "    <tr>\n",
       "      <th>1</th>\n",
       "      <td>He grew up in Evanston, Illinois the second ol...</td>\n",
       "      <td>His</td>\n",
       "      <td>284</td>\n",
       "      <td>mackenzie</td>\n",
       "      <td>228</td>\n",
       "      <td>bernard leach</td>\n",
       "      <td>251</td>\n",
       "      <td>True</td>\n",
       "      <td>False</td>\n",
       "      <td>he grew up in evanston illinois the second old...</td>\n",
       "      <td>[he, grew, up, in, evanston, illinois, the, se...</td>\n",
       "    </tr>\n",
       "    <tr>\n",
       "      <th>2</th>\n",
       "      <td>He had been reelected to Congress, but resigne...</td>\n",
       "      <td>his</td>\n",
       "      <td>265</td>\n",
       "      <td>angeloz</td>\n",
       "      <td>173</td>\n",
       "      <td>de la sota</td>\n",
       "      <td>246</td>\n",
       "      <td>False</td>\n",
       "      <td>True</td>\n",
       "      <td>he had been reelected to congress but resigned...</td>\n",
       "      <td>[he, had, been, reelected, to, congress, but, ...</td>\n",
       "    </tr>\n",
       "    <tr>\n",
       "      <th>3</th>\n",
       "      <td>The current members of Crime have also perform...</td>\n",
       "      <td>his</td>\n",
       "      <td>321</td>\n",
       "      <td>hell</td>\n",
       "      <td>174</td>\n",
       "      <td>henry rosenthal</td>\n",
       "      <td>336</td>\n",
       "      <td>False</td>\n",
       "      <td>True</td>\n",
       "      <td>the current members of crime have also perform...</td>\n",
       "      <td>[the, current, members, of, crime, have, also,...</td>\n",
       "    </tr>\n",
       "    <tr>\n",
       "      <th>4</th>\n",
       "      <td>Her Santa Fe Opera debut in 2005 was as Nuria ...</td>\n",
       "      <td>She</td>\n",
       "      <td>437</td>\n",
       "      <td>kitty oppenheimer</td>\n",
       "      <td>219</td>\n",
       "      <td>rivera</td>\n",
       "      <td>294</td>\n",
       "      <td>False</td>\n",
       "      <td>True</td>\n",
       "      <td>her santa fe opera debut in 2005 was as nuria ...</td>\n",
       "      <td>[her, santa, fe, opera, debut, in, 2005, was, ...</td>\n",
       "    </tr>\n",
       "  </tbody>\n",
       "</table>\n",
       "</div>"
      ],
      "text/plain": [
       "                                                Text Pronoun  Pronoun-offset   \n",
       "0  Zoe Telford -- played the police officer girlf...     her             274  \\\n",
       "1  He grew up in Evanston, Illinois the second ol...     His             284   \n",
       "2  He had been reelected to Congress, but resigne...     his             265   \n",
       "3  The current members of Crime have also perform...     his             321   \n",
       "4  Her Santa Fe Opera debut in 2005 was as Nuria ...     She             437   \n",
       "\n",
       "                   A  A-offset                B  B-offset  A-coref  B-coref   \n",
       "0     cheryl cassidy       191          pauline       207     True    False  \\\n",
       "1          mackenzie       228    bernard leach       251     True    False   \n",
       "2            angeloz       173       de la sota       246    False     True   \n",
       "3               hell       174  henry rosenthal       336    False     True   \n",
       "4  kitty oppenheimer       219           rivera       294    False     True   \n",
       "\n",
       "                                          text_clean   \n",
       "0  zoe telford  played the police officer girlfri...  \\\n",
       "1  he grew up in evanston illinois the second old...   \n",
       "2  he had been reelected to congress but resigned...   \n",
       "3  the current members of crime have also perform...   \n",
       "4  her santa fe opera debut in 2005 was as nuria ...   \n",
       "\n",
       "                                           tokenized  \n",
       "0  [zoe, telford, played, the, police, officer, g...  \n",
       "1  [he, grew, up, in, evanston, illinois, the, se...  \n",
       "2  [he, had, been, reelected, to, congress, but, ...  \n",
       "3  [the, current, members, of, crime, have, also,...  \n",
       "4  [her, santa, fe, opera, debut, in, 2005, was, ...  "
      ]
     },
     "metadata": {},
     "output_type": "display_data"
    }
   ],
   "source": [
    "train_df_clean['tokenized'] = train_df_clean['text_clean'].apply(word_tokenize)\n",
    "# double check\n",
    "print(train_df_clean[\"Text\"][0])\n",
    "print(train_df_clean[\"tokenized\"][0])\n",
    "print(train_df_clean[\"Text\"][100])\n",
    "print(train_df_clean[\"tokenized\"][100])\n",
    "display(train_df_clean.head())"
   ]
  },
  {
   "attachments": {},
   "cell_type": "markdown",
   "metadata": {},
   "source": [
    "### Remove Stop Words ESBORRARR PQ ESBORRA ELS PRONOMS"
   ]
  },
  {
   "cell_type": "code",
   "execution_count": 167,
   "metadata": {},
   "outputs": [
    {
     "name": "stderr",
     "output_type": "stream",
     "text": [
      "[nltk_data] Downloading package stopwords to\n",
      "[nltk_data]     /Users/bernatsort/nltk_data...\n",
      "[nltk_data]   Unzipping corpora/stopwords.zip.\n"
     ]
    }
   ],
   "source": [
    "# Removing stopwords.\n",
    "# nltk.download(\"stopwords\")\n",
    "# from nltk.corpus import stopwords"
   ]
  },
  {
   "cell_type": "code",
   "execution_count": 170,
   "metadata": {},
   "outputs": [
    {
     "name": "stdout",
     "output_type": "stream",
     "text": [
      "Zoe Telford -- played the police officer girlfriend of Simon, Maggie. Dumped by Simon in the final episode of series 1, after he slept with Jenny, and is not seen again. Phoebe Thomas played Cheryl Cassidy, Pauline's friend and also a year 11 pupil in Simon's class. Dumped her boyfriend following Simon's advice after he wouldn't have sex with her but later realised this was due to him catching crabs off her friend Pauline.\n",
      "['zoe', 'telford', 'played', 'police', 'officer', 'girlfriend', 'simon', 'maggie', 'dumped', 'simon', 'final', 'episode', 'series', '1', 'slept', 'jenny', 'seen', 'phoebe', 'thomas', 'played', 'cheryl', 'cassidy', 'paulines', 'friend', 'also', 'year', '11', 'pupil', 'simons', 'class', 'dumped', 'boyfriend', 'following', 'simons', 'advice', 'would', 'sex', 'later', 'realised', 'due', 'catching', 'crabs', 'friend', 'pauline']\n",
      "Re-elected in the 2007 election, she was re-named the Minister of International Relations, La Francophonie and for the Estrie Region as well as the Vice-Chair of the Treasury Board. Following her 2008 re-election, Gagnon-Tremblay gave up for portfolio of International Relations to Pierre Arcand but was given the position of President of the Treasury Board previously occupied by Monique Jerome-Forget who was also responsible for the portfolio of finances. She was given Jerome-Forget's government administration portfolio duties until 2010.\n",
      "['reelected', '2007', 'election', 'renamed', 'minister', 'international', 'relations', 'la', 'francophonie', 'estrie', 'region', 'well', 'vicechair', 'treasury', 'board', 'following', '2008', 'reelection', 'gagnontremblay', 'gave', 'portfolio', 'international', 'relations', 'pierre', 'arcand', 'given', 'position', 'president', 'treasury', 'board', 'previously', 'occupied', 'monique', 'jeromeforget', 'also', 'responsible', 'portfolio', 'finances', 'given', 'jeromeforgets', 'government', 'administration', 'portfolio', 'duties', '2010']\n"
     ]
    },
    {
     "data": {
      "text/html": [
       "<div>\n",
       "<style scoped>\n",
       "    .dataframe tbody tr th:only-of-type {\n",
       "        vertical-align: middle;\n",
       "    }\n",
       "\n",
       "    .dataframe tbody tr th {\n",
       "        vertical-align: top;\n",
       "    }\n",
       "\n",
       "    .dataframe thead th {\n",
       "        text-align: right;\n",
       "    }\n",
       "</style>\n",
       "<table border=\"1\" class=\"dataframe\">\n",
       "  <thead>\n",
       "    <tr style=\"text-align: right;\">\n",
       "      <th></th>\n",
       "      <th>Text</th>\n",
       "      <th>Pronoun</th>\n",
       "      <th>Pronoun-offset</th>\n",
       "      <th>A</th>\n",
       "      <th>A-offset</th>\n",
       "      <th>B</th>\n",
       "      <th>B-offset</th>\n",
       "      <th>A-coref</th>\n",
       "      <th>B-coref</th>\n",
       "      <th>text_clean</th>\n",
       "      <th>tokenized</th>\n",
       "      <th>stopwords_removed</th>\n",
       "    </tr>\n",
       "  </thead>\n",
       "  <tbody>\n",
       "    <tr>\n",
       "      <th>0</th>\n",
       "      <td>Zoe Telford -- played the police officer girlf...</td>\n",
       "      <td>her</td>\n",
       "      <td>274</td>\n",
       "      <td>cheryl cassidy</td>\n",
       "      <td>191</td>\n",
       "      <td>pauline</td>\n",
       "      <td>207</td>\n",
       "      <td>True</td>\n",
       "      <td>False</td>\n",
       "      <td>zoe telford  played the police officer girlfri...</td>\n",
       "      <td>[zoe, telford, played, the, police, officer, g...</td>\n",
       "      <td>[zoe, telford, played, police, officer, girlfr...</td>\n",
       "    </tr>\n",
       "    <tr>\n",
       "      <th>1</th>\n",
       "      <td>He grew up in Evanston, Illinois the second ol...</td>\n",
       "      <td>His</td>\n",
       "      <td>284</td>\n",
       "      <td>mackenzie</td>\n",
       "      <td>228</td>\n",
       "      <td>bernard leach</td>\n",
       "      <td>251</td>\n",
       "      <td>True</td>\n",
       "      <td>False</td>\n",
       "      <td>he grew up in evanston illinois the second old...</td>\n",
       "      <td>[he, grew, up, in, evanston, illinois, the, se...</td>\n",
       "      <td>[grew, evanston, illinois, second, oldest, fiv...</td>\n",
       "    </tr>\n",
       "    <tr>\n",
       "      <th>2</th>\n",
       "      <td>He had been reelected to Congress, but resigne...</td>\n",
       "      <td>his</td>\n",
       "      <td>265</td>\n",
       "      <td>angeloz</td>\n",
       "      <td>173</td>\n",
       "      <td>de la sota</td>\n",
       "      <td>246</td>\n",
       "      <td>False</td>\n",
       "      <td>True</td>\n",
       "      <td>he had been reelected to congress but resigned...</td>\n",
       "      <td>[he, had, been, reelected, to, congress, but, ...</td>\n",
       "      <td>[reelected, congress, resigned, 1990, accept, ...</td>\n",
       "    </tr>\n",
       "    <tr>\n",
       "      <th>3</th>\n",
       "      <td>The current members of Crime have also perform...</td>\n",
       "      <td>his</td>\n",
       "      <td>321</td>\n",
       "      <td>hell</td>\n",
       "      <td>174</td>\n",
       "      <td>henry rosenthal</td>\n",
       "      <td>336</td>\n",
       "      <td>False</td>\n",
       "      <td>True</td>\n",
       "      <td>the current members of crime have also perform...</td>\n",
       "      <td>[the, current, members, of, crime, have, also,...</td>\n",
       "      <td>[current, members, crime, also, performed, san...</td>\n",
       "    </tr>\n",
       "    <tr>\n",
       "      <th>4</th>\n",
       "      <td>Her Santa Fe Opera debut in 2005 was as Nuria ...</td>\n",
       "      <td>She</td>\n",
       "      <td>437</td>\n",
       "      <td>kitty oppenheimer</td>\n",
       "      <td>219</td>\n",
       "      <td>rivera</td>\n",
       "      <td>294</td>\n",
       "      <td>False</td>\n",
       "      <td>True</td>\n",
       "      <td>her santa fe opera debut in 2005 was as nuria ...</td>\n",
       "      <td>[her, santa, fe, opera, debut, in, 2005, was, ...</td>\n",
       "      <td>[santa, fe, opera, debut, 2005, nuria, revised...</td>\n",
       "    </tr>\n",
       "  </tbody>\n",
       "</table>\n",
       "</div>"
      ],
      "text/plain": [
       "                                                Text Pronoun  Pronoun-offset   \n",
       "0  Zoe Telford -- played the police officer girlf...     her             274  \\\n",
       "1  He grew up in Evanston, Illinois the second ol...     His             284   \n",
       "2  He had been reelected to Congress, but resigne...     his             265   \n",
       "3  The current members of Crime have also perform...     his             321   \n",
       "4  Her Santa Fe Opera debut in 2005 was as Nuria ...     She             437   \n",
       "\n",
       "                   A  A-offset                B  B-offset  A-coref  B-coref   \n",
       "0     cheryl cassidy       191          pauline       207     True    False  \\\n",
       "1          mackenzie       228    bernard leach       251     True    False   \n",
       "2            angeloz       173       de la sota       246    False     True   \n",
       "3               hell       174  henry rosenthal       336    False     True   \n",
       "4  kitty oppenheimer       219           rivera       294    False     True   \n",
       "\n",
       "                                          text_clean   \n",
       "0  zoe telford  played the police officer girlfri...  \\\n",
       "1  he grew up in evanston illinois the second old...   \n",
       "2  he had been reelected to congress but resigned...   \n",
       "3  the current members of crime have also perform...   \n",
       "4  her santa fe opera debut in 2005 was as nuria ...   \n",
       "\n",
       "                                           tokenized   \n",
       "0  [zoe, telford, played, the, police, officer, g...  \\\n",
       "1  [he, grew, up, in, evanston, illinois, the, se...   \n",
       "2  [he, had, been, reelected, to, congress, but, ...   \n",
       "3  [the, current, members, of, crime, have, also,...   \n",
       "4  [her, santa, fe, opera, debut, in, 2005, was, ...   \n",
       "\n",
       "                                   stopwords_removed  \n",
       "0  [zoe, telford, played, police, officer, girlfr...  \n",
       "1  [grew, evanston, illinois, second, oldest, fiv...  \n",
       "2  [reelected, congress, resigned, 1990, accept, ...  \n",
       "3  [current, members, crime, also, performed, san...  \n",
       "4  [santa, fe, opera, debut, 2005, nuria, revised...  "
      ]
     },
     "metadata": {},
     "output_type": "display_data"
    }
   ],
   "source": [
    "# stop = set(stopwords.words('english'))\n",
    "# train_df_clean['stopwords_removed'] = train_df_clean['tokenized'].apply(lambda x: [word for word in x if word not in stop])\n",
    "\n",
    "# # double check\n",
    "# print(train_df_clean[\"Text\"][0])\n",
    "# print(train_df_clean[\"stopwords_removed\"][0])\n",
    "# print(train_df_clean[\"Text\"][100])\n",
    "# print(train_df_clean[\"stopwords_removed\"][100])\n",
    "# display(train_df_clean.head())"
   ]
  },
  {
   "attachments": {},
   "cell_type": "markdown",
   "metadata": {},
   "source": [
    "### Stemming"
   ]
  },
  {
   "cell_type": "code",
   "execution_count": null,
   "metadata": {},
   "outputs": [],
   "source": [
    "# probar los 3 y luego elegir en base a cuál ha dado mejores resultados"
   ]
  },
  {
   "attachments": {},
   "cell_type": "markdown",
   "metadata": {},
   "source": [
    "#### PorterStemmer"
   ]
  },
  {
   "cell_type": "code",
   "execution_count": 20,
   "metadata": {},
   "outputs": [],
   "source": [
    "from nltk.stem import PorterStemmer"
   ]
  },
  {
   "cell_type": "code",
   "execution_count": 21,
   "metadata": {},
   "outputs": [],
   "source": [
    "def porter_stemmer(text):\n",
    "    \"\"\"\n",
    "        Stem words in list of tokenized words with PorterStemmer\n",
    "    \"\"\"\n",
    "    stemmer = nltk.PorterStemmer()\n",
    "    stems = [stemmer.stem(i) for i in text]\n",
    "    return stems"
   ]
  },
  {
   "cell_type": "code",
   "execution_count": 22,
   "metadata": {},
   "outputs": [
    {
     "name": "stdout",
     "output_type": "stream",
     "text": [
      "Zoe Telford -- played the police officer girlfriend of Simon, Maggie. Dumped by Simon in the final episode of series 1, after he slept with Jenny, and is not seen again. Phoebe Thomas played Cheryl Cassidy, Pauline's friend and also a year 11 pupil in Simon's class. Dumped her boyfriend following Simon's advice after he wouldn't have sex with her but later realised this was due to him catching crabs off her friend Pauline.\n",
      "['zoe', 'telford', 'play', 'the', 'polic', 'offic', 'girlfriend', 'of', 'simon', 'maggi', 'dump', 'by', 'simon', 'in', 'the', 'final', 'episod', 'of', 'seri', '1', 'after', 'he', 'slept', 'with', 'jenni', 'and', 'is', 'not', 'seen', 'again', 'phoeb', 'thoma', 'play', 'cheryl', 'cassidi', 'paulin', 'friend', 'and', 'also', 'a', 'year', '11', 'pupil', 'in', 'simon', 'class', 'dump', 'her', 'boyfriend', 'follow', 'simon', 'advic', 'after', 'he', 'would', 'not', 'have', 'sex', 'with', 'her', 'but', 'later', 'realis', 'thi', 'wa', 'due', 'to', 'him', 'catch', 'crab', 'off', 'her', 'friend', 'paulin']\n",
      "Re-elected in the 2007 election, she was re-named the Minister of International Relations, La Francophonie and for the Estrie Region as well as the Vice-Chair of the Treasury Board. Following her 2008 re-election, Gagnon-Tremblay gave up for portfolio of International Relations to Pierre Arcand but was given the position of President of the Treasury Board previously occupied by Monique Jerome-Forget who was also responsible for the portfolio of finances. She was given Jerome-Forget's government administration portfolio duties until 2010.\n",
      "['reelect', 'in', 'the', '2007', 'elect', 'she', 'wa', 'renam', 'the', 'minist', 'of', 'intern', 'relat', 'la', 'francophoni', 'and', 'for', 'the', 'estri', 'region', 'as', 'well', 'as', 'the', 'vicechair', 'of', 'the', 'treasuri', 'board', 'follow', 'her', '2008', 'reelect', 'gagnontremblay', 'gave', 'up', 'for', 'portfolio', 'of', 'intern', 'relat', 'to', 'pierr', 'arcand', 'but', 'wa', 'given', 'the', 'posit', 'of', 'presid', 'of', 'the', 'treasuri', 'board', 'previous', 'occupi', 'by', 'moniqu', 'jeromeforget', 'who', 'wa', 'also', 'respons', 'for', 'the', 'portfolio', 'of', 'financ', 'she', 'wa', 'given', 'jeromeforget', 'govern', 'administr', 'portfolio', 'duti', 'until', '2010']\n"
     ]
    }
   ],
   "source": [
    "train_df_clean['porter_stemmer'] = train_df_clean['tokenized'].apply(lambda x: porter_stemmer(x))\n",
    "\n",
    "# double check\n",
    "print(train_df_clean[\"Text\"][0])\n",
    "print(train_df_clean[\"porter_stemmer\"][0])\n",
    "print(train_df_clean[\"Text\"][100])\n",
    "print(train_df_clean[\"porter_stemmer\"][100])"
   ]
  },
  {
   "attachments": {},
   "cell_type": "markdown",
   "metadata": {},
   "source": [
    "#### SnowballStemmer\n"
   ]
  },
  {
   "cell_type": "code",
   "execution_count": 23,
   "metadata": {},
   "outputs": [],
   "source": [
    "from nltk.stem import SnowballStemmer\n"
   ]
  },
  {
   "cell_type": "code",
   "execution_count": 24,
   "metadata": {},
   "outputs": [],
   "source": [
    "def snowball_stemmer(text):\n",
    "    \"\"\"\n",
    "        Stem words in list of tokenized words with SnowballStemmer\n",
    "    \"\"\"\n",
    "    stemmer = nltk.SnowballStemmer(\"english\")\n",
    "    stems = [stemmer.stem(i) for i in text]\n",
    "    return stems"
   ]
  },
  {
   "cell_type": "code",
   "execution_count": 25,
   "metadata": {},
   "outputs": [
    {
     "name": "stdout",
     "output_type": "stream",
     "text": [
      "Zoe Telford -- played the police officer girlfriend of Simon, Maggie. Dumped by Simon in the final episode of series 1, after he slept with Jenny, and is not seen again. Phoebe Thomas played Cheryl Cassidy, Pauline's friend and also a year 11 pupil in Simon's class. Dumped her boyfriend following Simon's advice after he wouldn't have sex with her but later realised this was due to him catching crabs off her friend Pauline.\n",
      "['zoe', 'telford', 'play', 'the', 'polic', 'offic', 'girlfriend', 'of', 'simon', 'maggi', 'dump', 'by', 'simon', 'in', 'the', 'final', 'episod', 'of', 'seri', '1', 'after', 'he', 'slept', 'with', 'jenni', 'and', 'is', 'not', 'seen', 'again', 'phoeb', 'thoma', 'play', 'cheryl', 'cassidi', 'paulin', 'friend', 'and', 'also', 'a', 'year', '11', 'pupil', 'in', 'simon', 'class', 'dump', 'her', 'boyfriend', 'follow', 'simon', 'advic', 'after', 'he', 'would', 'not', 'have', 'sex', 'with', 'her', 'but', 'later', 'realis', 'this', 'was', 'due', 'to', 'him', 'catch', 'crab', 'off', 'her', 'friend', 'paulin']\n",
      "Re-elected in the 2007 election, she was re-named the Minister of International Relations, La Francophonie and for the Estrie Region as well as the Vice-Chair of the Treasury Board. Following her 2008 re-election, Gagnon-Tremblay gave up for portfolio of International Relations to Pierre Arcand but was given the position of President of the Treasury Board previously occupied by Monique Jerome-Forget who was also responsible for the portfolio of finances. She was given Jerome-Forget's government administration portfolio duties until 2010.\n",
      "['reelect', 'in', 'the', '2007', 'elect', 'she', 'was', 'renam', 'the', 'minist', 'of', 'intern', 'relat', 'la', 'francophoni', 'and', 'for', 'the', 'estri', 'region', 'as', 'well', 'as', 'the', 'vicechair', 'of', 'the', 'treasuri', 'board', 'follow', 'her', '2008', 'reelect', 'gagnontremblay', 'gave', 'up', 'for', 'portfolio', 'of', 'intern', 'relat', 'to', 'pierr', 'arcand', 'but', 'was', 'given', 'the', 'posit', 'of', 'presid', 'of', 'the', 'treasuri', 'board', 'previous', 'occupi', 'by', 'moniqu', 'jeromeforget', 'who', 'was', 'also', 'respons', 'for', 'the', 'portfolio', 'of', 'financ', 'she', 'was', 'given', 'jeromeforget', 'govern', 'administr', 'portfolio', 'duti', 'until', '2010']\n"
     ]
    }
   ],
   "source": [
    "train_df_clean['snowball_stemmer'] = train_df_clean['tokenized'].apply(lambda x: snowball_stemmer(x))\n",
    "\n",
    "# double check\n",
    "print(train_df_clean[\"Text\"][0])\n",
    "print(train_df_clean[\"snowball_stemmer\"][0])\n",
    "print(train_df_clean[\"Text\"][100])\n",
    "print(train_df_clean[\"snowball_stemmer\"][100])"
   ]
  },
  {
   "attachments": {},
   "cell_type": "markdown",
   "metadata": {},
   "source": [
    "#### LancasterStemmer "
   ]
  },
  {
   "cell_type": "code",
   "execution_count": 26,
   "metadata": {},
   "outputs": [],
   "source": [
    "from nltk.stem import LancasterStemmer"
   ]
  },
  {
   "cell_type": "code",
   "execution_count": 27,
   "metadata": {},
   "outputs": [],
   "source": [
    "def lancaster_stemmer(text):\n",
    "    \"\"\"\n",
    "        Stem words in list of tokenized words with LancasterStemmer\n",
    "    \"\"\"\n",
    "    stemmer = nltk.LancasterStemmer()\n",
    "    stems = [stemmer.stem(i) for i in text]\n",
    "    return stems"
   ]
  },
  {
   "cell_type": "code",
   "execution_count": 28,
   "metadata": {},
   "outputs": [
    {
     "name": "stdout",
     "output_type": "stream",
     "text": [
      "Zoe Telford -- played the police officer girlfriend of Simon, Maggie. Dumped by Simon in the final episode of series 1, after he slept with Jenny, and is not seen again. Phoebe Thomas played Cheryl Cassidy, Pauline's friend and also a year 11 pupil in Simon's class. Dumped her boyfriend following Simon's advice after he wouldn't have sex with her but later realised this was due to him catching crabs off her friend Pauline.\n",
      "['zoe', 'telford', 'play', 'the', 'pol', 'off', 'girlfriend', 'of', 'simon', 'maggy', 'dump', 'by', 'simon', 'in', 'the', 'fin', 'episod', 'of', 'sery', '1', 'aft', 'he', 'slept', 'with', 'jenny', 'and', 'is', 'not', 'seen', 'again', 'phoeb', 'thoma', 'play', 'cheryl', 'cassidy', 'paulin', 'friend', 'and', 'also', 'a', 'year', '11', 'pupil', 'in', 'simon', 'class', 'dump', 'her', 'boyfriend', 'follow', 'simon', 'adv', 'aft', 'he', 'would', 'not', 'hav', 'sex', 'with', 'her', 'but', 'lat', 'real', 'thi', 'was', 'due', 'to', 'him', 'catch', 'crab', 'off', 'her', 'friend', 'paulin']\n",
      "Re-elected in the 2007 election, she was re-named the Minister of International Relations, La Francophonie and for the Estrie Region as well as the Vice-Chair of the Treasury Board. Following her 2008 re-election, Gagnon-Tremblay gave up for portfolio of International Relations to Pierre Arcand but was given the position of President of the Treasury Board previously occupied by Monique Jerome-Forget who was also responsible for the portfolio of finances. She was given Jerome-Forget's government administration portfolio duties until 2010.\n",
      "['reelect', 'in', 'the', '2007', 'elect', 'she', 'was', 'renam', 'the', 'min', 'of', 'intern', 'rel', 'la', 'francophony', 'and', 'for', 'the', 'estry', 'reg', 'as', 'wel', 'as', 'the', 'vicechair', 'of', 'the', 'treasury', 'board', 'follow', 'her', '2008', 'reelect', 'gagnontremblay', 'gav', 'up', 'for', 'portfolio', 'of', 'intern', 'rel', 'to', 'pier', 'arcand', 'but', 'was', 'giv', 'the', 'posit', 'of', 'presid', 'of', 'the', 'treasury', 'board', 'prevy', 'occupy', 'by', 'mon', 'jeromeforget', 'who', 'was', 'also', 'respons', 'for', 'the', 'portfolio', 'of', 'fin', 'she', 'was', 'giv', 'jeromeforget', 'govern', 'admin', 'portfolio', 'duty', 'until', '2010']\n"
     ]
    },
    {
     "data": {
      "text/html": [
       "<div>\n",
       "<style scoped>\n",
       "    .dataframe tbody tr th:only-of-type {\n",
       "        vertical-align: middle;\n",
       "    }\n",
       "\n",
       "    .dataframe tbody tr th {\n",
       "        vertical-align: top;\n",
       "    }\n",
       "\n",
       "    .dataframe thead th {\n",
       "        text-align: right;\n",
       "    }\n",
       "</style>\n",
       "<table border=\"1\" class=\"dataframe\">\n",
       "  <thead>\n",
       "    <tr style=\"text-align: right;\">\n",
       "      <th></th>\n",
       "      <th>Text</th>\n",
       "      <th>Pronoun</th>\n",
       "      <th>Pronoun-offset</th>\n",
       "      <th>A</th>\n",
       "      <th>A-offset</th>\n",
       "      <th>B</th>\n",
       "      <th>B-offset</th>\n",
       "      <th>A-coref</th>\n",
       "      <th>B-coref</th>\n",
       "      <th>text_clean</th>\n",
       "      <th>tokenized</th>\n",
       "      <th>porter_stemmer</th>\n",
       "      <th>snowball_stemmer</th>\n",
       "      <th>lancaster_stemmer</th>\n",
       "    </tr>\n",
       "  </thead>\n",
       "  <tbody>\n",
       "    <tr>\n",
       "      <th>0</th>\n",
       "      <td>Zoe Telford -- played the police officer girlf...</td>\n",
       "      <td>her</td>\n",
       "      <td>274</td>\n",
       "      <td>cheryl cassidy</td>\n",
       "      <td>191</td>\n",
       "      <td>pauline</td>\n",
       "      <td>207</td>\n",
       "      <td>True</td>\n",
       "      <td>False</td>\n",
       "      <td>zoe telford  played the police officer girlfri...</td>\n",
       "      <td>[zoe, telford, played, the, police, officer, g...</td>\n",
       "      <td>[zoe, telford, play, the, polic, offic, girlfr...</td>\n",
       "      <td>[zoe, telford, play, the, polic, offic, girlfr...</td>\n",
       "      <td>[zoe, telford, play, the, pol, off, girlfriend...</td>\n",
       "    </tr>\n",
       "    <tr>\n",
       "      <th>1</th>\n",
       "      <td>He grew up in Evanston, Illinois the second ol...</td>\n",
       "      <td>His</td>\n",
       "      <td>284</td>\n",
       "      <td>mackenzie</td>\n",
       "      <td>228</td>\n",
       "      <td>bernard leach</td>\n",
       "      <td>251</td>\n",
       "      <td>True</td>\n",
       "      <td>False</td>\n",
       "      <td>he grew up in evanston illinois the second old...</td>\n",
       "      <td>[he, grew, up, in, evanston, illinois, the, se...</td>\n",
       "      <td>[he, grew, up, in, evanston, illinoi, the, sec...</td>\n",
       "      <td>[he, grew, up, in, evanston, illinoi, the, sec...</td>\n",
       "      <td>[he, grew, up, in, evanston, illino, the, seco...</td>\n",
       "    </tr>\n",
       "    <tr>\n",
       "      <th>2</th>\n",
       "      <td>He had been reelected to Congress, but resigne...</td>\n",
       "      <td>his</td>\n",
       "      <td>265</td>\n",
       "      <td>angeloz</td>\n",
       "      <td>173</td>\n",
       "      <td>de la sota</td>\n",
       "      <td>246</td>\n",
       "      <td>False</td>\n",
       "      <td>True</td>\n",
       "      <td>he had been reelected to congress but resigned...</td>\n",
       "      <td>[he, had, been, reelected, to, congress, but, ...</td>\n",
       "      <td>[he, had, been, reelect, to, congress, but, re...</td>\n",
       "      <td>[he, had, been, reelect, to, congress, but, re...</td>\n",
       "      <td>[he, had, been, reelect, to, congress, but, re...</td>\n",
       "    </tr>\n",
       "    <tr>\n",
       "      <th>3</th>\n",
       "      <td>The current members of Crime have also perform...</td>\n",
       "      <td>his</td>\n",
       "      <td>321</td>\n",
       "      <td>hell</td>\n",
       "      <td>174</td>\n",
       "      <td>henry rosenthal</td>\n",
       "      <td>336</td>\n",
       "      <td>False</td>\n",
       "      <td>True</td>\n",
       "      <td>the current members of crime have also perform...</td>\n",
       "      <td>[the, current, members, of, crime, have, also,...</td>\n",
       "      <td>[the, current, member, of, crime, have, also, ...</td>\n",
       "      <td>[the, current, member, of, crime, have, also, ...</td>\n",
       "      <td>[the, cur, memb, of, crim, hav, also, perform,...</td>\n",
       "    </tr>\n",
       "    <tr>\n",
       "      <th>4</th>\n",
       "      <td>Her Santa Fe Opera debut in 2005 was as Nuria ...</td>\n",
       "      <td>She</td>\n",
       "      <td>437</td>\n",
       "      <td>kitty oppenheimer</td>\n",
       "      <td>219</td>\n",
       "      <td>rivera</td>\n",
       "      <td>294</td>\n",
       "      <td>False</td>\n",
       "      <td>True</td>\n",
       "      <td>her santa fe opera debut in 2005 was as nuria ...</td>\n",
       "      <td>[her, santa, fe, opera, debut, in, 2005, was, ...</td>\n",
       "      <td>[her, santa, fe, opera, debut, in, 2005, wa, a...</td>\n",
       "      <td>[her, santa, fe, opera, debut, in, 2005, was, ...</td>\n",
       "      <td>[her, sant, fe, oper, debut, in, 2005, was, as...</td>\n",
       "    </tr>\n",
       "  </tbody>\n",
       "</table>\n",
       "</div>"
      ],
      "text/plain": [
       "                                                Text Pronoun  Pronoun-offset   \n",
       "0  Zoe Telford -- played the police officer girlf...     her             274  \\\n",
       "1  He grew up in Evanston, Illinois the second ol...     His             284   \n",
       "2  He had been reelected to Congress, but resigne...     his             265   \n",
       "3  The current members of Crime have also perform...     his             321   \n",
       "4  Her Santa Fe Opera debut in 2005 was as Nuria ...     She             437   \n",
       "\n",
       "                   A  A-offset                B  B-offset  A-coref  B-coref   \n",
       "0     cheryl cassidy       191          pauline       207     True    False  \\\n",
       "1          mackenzie       228    bernard leach       251     True    False   \n",
       "2            angeloz       173       de la sota       246    False     True   \n",
       "3               hell       174  henry rosenthal       336    False     True   \n",
       "4  kitty oppenheimer       219           rivera       294    False     True   \n",
       "\n",
       "                                          text_clean   \n",
       "0  zoe telford  played the police officer girlfri...  \\\n",
       "1  he grew up in evanston illinois the second old...   \n",
       "2  he had been reelected to congress but resigned...   \n",
       "3  the current members of crime have also perform...   \n",
       "4  her santa fe opera debut in 2005 was as nuria ...   \n",
       "\n",
       "                                           tokenized   \n",
       "0  [zoe, telford, played, the, police, officer, g...  \\\n",
       "1  [he, grew, up, in, evanston, illinois, the, se...   \n",
       "2  [he, had, been, reelected, to, congress, but, ...   \n",
       "3  [the, current, members, of, crime, have, also,...   \n",
       "4  [her, santa, fe, opera, debut, in, 2005, was, ...   \n",
       "\n",
       "                                      porter_stemmer   \n",
       "0  [zoe, telford, play, the, polic, offic, girlfr...  \\\n",
       "1  [he, grew, up, in, evanston, illinoi, the, sec...   \n",
       "2  [he, had, been, reelect, to, congress, but, re...   \n",
       "3  [the, current, member, of, crime, have, also, ...   \n",
       "4  [her, santa, fe, opera, debut, in, 2005, wa, a...   \n",
       "\n",
       "                                    snowball_stemmer   \n",
       "0  [zoe, telford, play, the, polic, offic, girlfr...  \\\n",
       "1  [he, grew, up, in, evanston, illinoi, the, sec...   \n",
       "2  [he, had, been, reelect, to, congress, but, re...   \n",
       "3  [the, current, member, of, crime, have, also, ...   \n",
       "4  [her, santa, fe, opera, debut, in, 2005, was, ...   \n",
       "\n",
       "                                   lancaster_stemmer  \n",
       "0  [zoe, telford, play, the, pol, off, girlfriend...  \n",
       "1  [he, grew, up, in, evanston, illino, the, seco...  \n",
       "2  [he, had, been, reelect, to, congress, but, re...  \n",
       "3  [the, cur, memb, of, crim, hav, also, perform,...  \n",
       "4  [her, sant, fe, oper, debut, in, 2005, was, as...  "
      ]
     },
     "metadata": {},
     "output_type": "display_data"
    }
   ],
   "source": [
    "train_df_clean['lancaster_stemmer'] = train_df_clean['tokenized'].apply(lambda x: lancaster_stemmer(x))\n",
    "\n",
    "# double check\n",
    "print(train_df_clean[\"Text\"][0])\n",
    "print(train_df_clean[\"lancaster_stemmer\"][0])\n",
    "print(train_df_clean[\"Text\"][100])\n",
    "print(train_df_clean[\"lancaster_stemmer\"][100])\n",
    "display(train_df_clean.head())"
   ]
  },
  {
   "attachments": {},
   "cell_type": "markdown",
   "metadata": {},
   "source": [
    "#### Compare "
   ]
  },
  {
   "cell_type": "code",
   "execution_count": 29,
   "metadata": {},
   "outputs": [
    {
     "name": "stdout",
     "output_type": "stream",
     "text": [
      "Zoe Telford -- played the police officer girlfriend of Simon, Maggie. Dumped by Simon in the final episode of series 1, after he slept with Jenny, and is not seen again. Phoebe Thomas played Cheryl Cassidy, Pauline's friend and also a year 11 pupil in Simon's class. Dumped her boyfriend following Simon's advice after he wouldn't have sex with her but later realised this was due to him catching crabs off her friend Pauline.\n",
      "['zoe', 'telford', 'play', 'the', 'polic', 'offic', 'girlfriend', 'of', 'simon', 'maggi', 'dump', 'by', 'simon', 'in', 'the', 'final', 'episod', 'of', 'seri', '1', 'after', 'he', 'slept', 'with', 'jenni', 'and', 'is', 'not', 'seen', 'again', 'phoeb', 'thoma', 'play', 'cheryl', 'cassidi', 'paulin', 'friend', 'and', 'also', 'a', 'year', '11', 'pupil', 'in', 'simon', 'class', 'dump', 'her', 'boyfriend', 'follow', 'simon', 'advic', 'after', 'he', 'would', 'not', 'have', 'sex', 'with', 'her', 'but', 'later', 'realis', 'thi', 'wa', 'due', 'to', 'him', 'catch', 'crab', 'off', 'her', 'friend', 'paulin']\n",
      "['zoe', 'telford', 'play', 'the', 'polic', 'offic', 'girlfriend', 'of', 'simon', 'maggi', 'dump', 'by', 'simon', 'in', 'the', 'final', 'episod', 'of', 'seri', '1', 'after', 'he', 'slept', 'with', 'jenni', 'and', 'is', 'not', 'seen', 'again', 'phoeb', 'thoma', 'play', 'cheryl', 'cassidi', 'paulin', 'friend', 'and', 'also', 'a', 'year', '11', 'pupil', 'in', 'simon', 'class', 'dump', 'her', 'boyfriend', 'follow', 'simon', 'advic', 'after', 'he', 'would', 'not', 'have', 'sex', 'with', 'her', 'but', 'later', 'realis', 'this', 'was', 'due', 'to', 'him', 'catch', 'crab', 'off', 'her', 'friend', 'paulin']\n",
      "['zoe', 'telford', 'play', 'the', 'pol', 'off', 'girlfriend', 'of', 'simon', 'maggy', 'dump', 'by', 'simon', 'in', 'the', 'fin', 'episod', 'of', 'sery', '1', 'aft', 'he', 'slept', 'with', 'jenny', 'and', 'is', 'not', 'seen', 'again', 'phoeb', 'thoma', 'play', 'cheryl', 'cassidy', 'paulin', 'friend', 'and', 'also', 'a', 'year', '11', 'pupil', 'in', 'simon', 'class', 'dump', 'her', 'boyfriend', 'follow', 'simon', 'adv', 'aft', 'he', 'would', 'not', 'hav', 'sex', 'with', 'her', 'but', 'lat', 'real', 'thi', 'was', 'due', 'to', 'him', 'catch', 'crab', 'off', 'her', 'friend', 'paulin']\n"
     ]
    }
   ],
   "source": [
    "print(train_df_clean[\"Text\"][0])\n",
    "print(train_df_clean[\"porter_stemmer\"][0])\n",
    "print(train_df_clean[\"snowball_stemmer\"][0])\n",
    "print(train_df_clean[\"lancaster_stemmer\"][0])"
   ]
  },
  {
   "attachments": {},
   "cell_type": "markdown",
   "metadata": {},
   "source": [
    "- Descartamos Lancaster stemmer por ser demasiado agresivo. \n"
   ]
  },
  {
   "cell_type": "code",
   "execution_count": null,
   "metadata": {},
   "outputs": [],
   "source": []
  },
  {
   "cell_type": "code",
   "execution_count": null,
   "metadata": {},
   "outputs": [],
   "source": []
  },
  {
   "cell_type": "code",
   "execution_count": null,
   "metadata": {},
   "outputs": [],
   "source": []
  },
  {
   "cell_type": "code",
   "execution_count": 77,
   "metadata": {},
   "outputs": [
    {
     "name": "stderr",
     "output_type": "stream",
     "text": [
      "[nltk_data] Downloading package punkt to\n",
      "[nltk_data]     /Users/bernatsort/nltk_data...\n",
      "[nltk_data]   Package punkt is already up-to-date!\n"
     ]
    }
   ],
   "source": [
    "\n",
    "from nltk.stem import PorterStemmer, WordNetLemmatizer#, LancasterStemmer, SnowballStemmer\n",
    "from nltk.corpus import stopwords\n",
    "\n"
   ]
  },
  {
   "cell_type": "code",
   "execution_count": 73,
   "metadata": {},
   "outputs": [
    {
     "data": {
      "text/plain": [
       "['He',\n",
       " 'grew',\n",
       " 'up',\n",
       " 'in',\n",
       " 'Evanston',\n",
       " 'Illinois',\n",
       " 'the',\n",
       " 'second',\n",
       " 'oldest',\n",
       " 'of',\n",
       " 'five',\n",
       " 'children',\n",
       " 'including',\n",
       " 'his',\n",
       " 'brothers',\n",
       " 'Fred',\n",
       " 'and',\n",
       " 'Gordon',\n",
       " 'and',\n",
       " 'sisters',\n",
       " 'Marge',\n",
       " 'Peppy',\n",
       " 'and',\n",
       " 'Marilyn',\n",
       " 'His',\n",
       " 'high',\n",
       " 'school',\n",
       " 'days',\n",
       " 'were',\n",
       " 'spent',\n",
       " 'at',\n",
       " 'New',\n",
       " 'Trier',\n",
       " 'High',\n",
       " 'School',\n",
       " 'in',\n",
       " 'Winnetka',\n",
       " 'Illinois',\n",
       " 'MacKenzie',\n",
       " 'studied',\n",
       " 'with',\n",
       " 'Bernard',\n",
       " 'Leach',\n",
       " 'from',\n",
       " 'to',\n",
       " 'His',\n",
       " 'simple',\n",
       " 'wheelthrown',\n",
       " 'functional',\n",
       " 'pottery',\n",
       " 'is',\n",
       " 'heavily',\n",
       " 'influenced',\n",
       " 'by',\n",
       " 'the',\n",
       " 'oriental',\n",
       " 'aesthetic',\n",
       " 'of',\n",
       " 'Shoji',\n",
       " 'Hamada',\n",
       " 'and',\n",
       " 'Kanjiro',\n",
       " 'Kawai']"
      ]
     },
     "execution_count": 73,
     "metadata": {},
     "output_type": "execute_result"
    }
   ],
   "source": [
    "# Tokenización\n",
    "tokens = nltk.word_tokenize(clean_text)\n",
    "tokens"
   ]
  },
  {
   "cell_type": "code",
   "execution_count": 168,
   "metadata": {},
   "outputs": [
    {
     "ename": "NameError",
     "evalue": "name 'stop' is not defined",
     "output_type": "error",
     "traceback": [
      "\u001b[0;31m---------------------------------------------------------------------------\u001b[0m",
      "\u001b[0;31mNameError\u001b[0m                                 Traceback (most recent call last)",
      "Cell \u001b[0;32mIn[168], line 1\u001b[0m\n\u001b[0;32m----> 1\u001b[0m \u001b[39mdef\u001b[39;00m \u001b[39mpreprocess_text\u001b[39m(df, stop\u001b[39m=\u001b[39mstop, n\u001b[39m=\u001b[39m\u001b[39m1\u001b[39m, col\u001b[39m=\u001b[39m\u001b[39m'\u001b[39m\u001b[39mtext\u001b[39m\u001b[39m'\u001b[39m):\n\u001b[1;32m      2\u001b[0m \u001b[39m    \u001b[39m\u001b[39m'''Function to preprocess and create corpus'''\u001b[39;00m\n\u001b[1;32m      3\u001b[0m     new_corpus \u001b[39m=\u001b[39m []\n",
      "\u001b[0;31mNameError\u001b[0m: name 'stop' is not defined"
     ]
    }
   ],
   "source": [
    "def preprocess_text(df, stop=stop, n=1, col='text'):\n",
    "    '''Function to preprocess and create corpus'''\n",
    "    new_corpus = []\n",
    "    stem = PorterStemmer()\n",
    "    lem = WordNetLemmatizer()\n",
    "\n",
    "    for text in df[col]:\n",
    "        words = [w for w in nltk.word_tokenize(text) if (w not in stop)]\n",
    "        words = [lem.lemmatize(w) for w in words if len(w)>n]\n",
    "        new_corpus.append(words)\n",
    "\n",
    "    new_corpus = [word for l in new_corpus for word in l]\n",
    "\n",
    "    return new_corpus"
   ]
  },
  {
   "cell_type": "code",
   "execution_count": null,
   "metadata": {},
   "outputs": [],
   "source": []
  },
  {
   "cell_type": "code",
   "execution_count": null,
   "metadata": {},
   "outputs": [],
   "source": []
  },
  {
   "cell_type": "code",
   "execution_count": null,
   "metadata": {},
   "outputs": [],
   "source": []
  },
  {
   "cell_type": "code",
   "execution_count": null,
   "metadata": {},
   "outputs": [],
   "source": []
  },
  {
   "cell_type": "code",
   "execution_count": null,
   "metadata": {},
   "outputs": [],
   "source": []
  },
  {
   "attachments": {},
   "cell_type": "markdown",
   "metadata": {},
   "source": [
    "## xtrain y train"
   ]
  },
  {
   "cell_type": "code",
   "execution_count": null,
   "metadata": {},
   "outputs": [],
   "source": [
    "X_train = train_df[imp_features]\n",
    "y_train = train_df[target]"
   ]
  },
  {
   "cell_type": "code",
   "execution_count": null,
   "metadata": {},
   "outputs": [
    {
     "data": {
      "text/html": [
       "<div>\n",
       "<style scoped>\n",
       "    .dataframe tbody tr th:only-of-type {\n",
       "        vertical-align: middle;\n",
       "    }\n",
       "\n",
       "    .dataframe tbody tr th {\n",
       "        vertical-align: top;\n",
       "    }\n",
       "\n",
       "    .dataframe thead th {\n",
       "        text-align: right;\n",
       "    }\n",
       "</style>\n",
       "<table border=\"1\" class=\"dataframe\">\n",
       "  <thead>\n",
       "    <tr style=\"text-align: right;\">\n",
       "      <th></th>\n",
       "      <th>Text</th>\n",
       "      <th>Pronoun</th>\n",
       "      <th>Pronoun-offset</th>\n",
       "      <th>A</th>\n",
       "      <th>A-offset</th>\n",
       "      <th>B</th>\n",
       "      <th>B-offset</th>\n",
       "    </tr>\n",
       "  </thead>\n",
       "  <tbody>\n",
       "    <tr>\n",
       "      <th>0</th>\n",
       "      <td>Zoe Telford -- played the police officer girlf...</td>\n",
       "      <td>her</td>\n",
       "      <td>274</td>\n",
       "      <td>Cheryl Cassidy</td>\n",
       "      <td>191</td>\n",
       "      <td>Pauline</td>\n",
       "      <td>207</td>\n",
       "    </tr>\n",
       "    <tr>\n",
       "      <th>1</th>\n",
       "      <td>He grew up in Evanston, Illinois the second ol...</td>\n",
       "      <td>His</td>\n",
       "      <td>284</td>\n",
       "      <td>MacKenzie</td>\n",
       "      <td>228</td>\n",
       "      <td>Bernard Leach</td>\n",
       "      <td>251</td>\n",
       "    </tr>\n",
       "    <tr>\n",
       "      <th>2</th>\n",
       "      <td>He had been reelected to Congress, but resigne...</td>\n",
       "      <td>his</td>\n",
       "      <td>265</td>\n",
       "      <td>Angeloz</td>\n",
       "      <td>173</td>\n",
       "      <td>De la Sota</td>\n",
       "      <td>246</td>\n",
       "    </tr>\n",
       "    <tr>\n",
       "      <th>3</th>\n",
       "      <td>The current members of Crime have also perform...</td>\n",
       "      <td>his</td>\n",
       "      <td>321</td>\n",
       "      <td>Hell</td>\n",
       "      <td>174</td>\n",
       "      <td>Henry Rosenthal</td>\n",
       "      <td>336</td>\n",
       "    </tr>\n",
       "    <tr>\n",
       "      <th>4</th>\n",
       "      <td>Her Santa Fe Opera debut in 2005 was as Nuria ...</td>\n",
       "      <td>She</td>\n",
       "      <td>437</td>\n",
       "      <td>Kitty Oppenheimer</td>\n",
       "      <td>219</td>\n",
       "      <td>Rivera</td>\n",
       "      <td>294</td>\n",
       "    </tr>\n",
       "    <tr>\n",
       "      <th>...</th>\n",
       "      <td>...</td>\n",
       "      <td>...</td>\n",
       "      <td>...</td>\n",
       "      <td>...</td>\n",
       "      <td>...</td>\n",
       "      <td>...</td>\n",
       "      <td>...</td>\n",
       "    </tr>\n",
       "    <tr>\n",
       "      <th>1995</th>\n",
       "      <td>Faye's third husband, Paul Resnick, reported t...</td>\n",
       "      <td>her</td>\n",
       "      <td>433</td>\n",
       "      <td>Nicole</td>\n",
       "      <td>255</td>\n",
       "      <td>Faye</td>\n",
       "      <td>328</td>\n",
       "    </tr>\n",
       "    <tr>\n",
       "      <th>1996</th>\n",
       "      <td>The plot of the film focuses on the life of a ...</td>\n",
       "      <td>her</td>\n",
       "      <td>246</td>\n",
       "      <td>Doris Chu</td>\n",
       "      <td>111</td>\n",
       "      <td>Mei</td>\n",
       "      <td>215</td>\n",
       "    </tr>\n",
       "    <tr>\n",
       "      <th>1997</th>\n",
       "      <td>Grant played the part in Trevor Nunn's movie a...</td>\n",
       "      <td>she</td>\n",
       "      <td>348</td>\n",
       "      <td>Maria</td>\n",
       "      <td>259</td>\n",
       "      <td>Imelda Staunton</td>\n",
       "      <td>266</td>\n",
       "    </tr>\n",
       "    <tr>\n",
       "      <th>1998</th>\n",
       "      <td>The fashion house specialised in hand-printed ...</td>\n",
       "      <td>She</td>\n",
       "      <td>284</td>\n",
       "      <td>Helen</td>\n",
       "      <td>145</td>\n",
       "      <td>Suzanne Bartsch</td>\n",
       "      <td>208</td>\n",
       "    </tr>\n",
       "    <tr>\n",
       "      <th>1999</th>\n",
       "      <td>Watkins was a close friend of Hess' first wife...</td>\n",
       "      <td>her</td>\n",
       "      <td>373</td>\n",
       "      <td>Elizabeth</td>\n",
       "      <td>293</td>\n",
       "      <td>Watkins</td>\n",
       "      <td>347</td>\n",
       "    </tr>\n",
       "  </tbody>\n",
       "</table>\n",
       "<p>2000 rows × 7 columns</p>\n",
       "</div>"
      ],
      "text/plain": [
       "                                                   Text Pronoun   \n",
       "0     Zoe Telford -- played the police officer girlf...     her  \\\n",
       "1     He grew up in Evanston, Illinois the second ol...     His   \n",
       "2     He had been reelected to Congress, but resigne...     his   \n",
       "3     The current members of Crime have also perform...     his   \n",
       "4     Her Santa Fe Opera debut in 2005 was as Nuria ...     She   \n",
       "...                                                 ...     ...   \n",
       "1995  Faye's third husband, Paul Resnick, reported t...     her   \n",
       "1996  The plot of the film focuses on the life of a ...     her   \n",
       "1997  Grant played the part in Trevor Nunn's movie a...     she   \n",
       "1998  The fashion house specialised in hand-printed ...     She   \n",
       "1999  Watkins was a close friend of Hess' first wife...     her   \n",
       "\n",
       "      Pronoun-offset                  A  A-offset                B  B-offset  \n",
       "0                274     Cheryl Cassidy       191          Pauline       207  \n",
       "1                284          MacKenzie       228    Bernard Leach       251  \n",
       "2                265            Angeloz       173       De la Sota       246  \n",
       "3                321               Hell       174  Henry Rosenthal       336  \n",
       "4                437  Kitty Oppenheimer       219           Rivera       294  \n",
       "...              ...                ...       ...              ...       ...  \n",
       "1995             433             Nicole       255             Faye       328  \n",
       "1996             246          Doris Chu       111              Mei       215  \n",
       "1997             348              Maria       259  Imelda Staunton       266  \n",
       "1998             284              Helen       145  Suzanne Bartsch       208  \n",
       "1999             373          Elizabeth       293          Watkins       347  \n",
       "\n",
       "[2000 rows x 7 columns]"
      ]
     },
     "execution_count": 45,
     "metadata": {},
     "output_type": "execute_result"
    }
   ],
   "source": [
    "# features (train dataset)\n",
    "X_train"
   ]
  },
  {
   "cell_type": "code",
   "execution_count": null,
   "metadata": {},
   "outputs": [
    {
     "data": {
      "text/html": [
       "<div>\n",
       "<style scoped>\n",
       "    .dataframe tbody tr th:only-of-type {\n",
       "        vertical-align: middle;\n",
       "    }\n",
       "\n",
       "    .dataframe tbody tr th {\n",
       "        vertical-align: top;\n",
       "    }\n",
       "\n",
       "    .dataframe thead th {\n",
       "        text-align: right;\n",
       "    }\n",
       "</style>\n",
       "<table border=\"1\" class=\"dataframe\">\n",
       "  <thead>\n",
       "    <tr style=\"text-align: right;\">\n",
       "      <th></th>\n",
       "      <th>A-coref</th>\n",
       "      <th>B-coref</th>\n",
       "    </tr>\n",
       "  </thead>\n",
       "  <tbody>\n",
       "    <tr>\n",
       "      <th>0</th>\n",
       "      <td>True</td>\n",
       "      <td>False</td>\n",
       "    </tr>\n",
       "    <tr>\n",
       "      <th>1</th>\n",
       "      <td>True</td>\n",
       "      <td>False</td>\n",
       "    </tr>\n",
       "    <tr>\n",
       "      <th>2</th>\n",
       "      <td>False</td>\n",
       "      <td>True</td>\n",
       "    </tr>\n",
       "    <tr>\n",
       "      <th>3</th>\n",
       "      <td>False</td>\n",
       "      <td>True</td>\n",
       "    </tr>\n",
       "    <tr>\n",
       "      <th>4</th>\n",
       "      <td>False</td>\n",
       "      <td>True</td>\n",
       "    </tr>\n",
       "    <tr>\n",
       "      <th>...</th>\n",
       "      <td>...</td>\n",
       "      <td>...</td>\n",
       "    </tr>\n",
       "    <tr>\n",
       "      <th>1995</th>\n",
       "      <td>False</td>\n",
       "      <td>True</td>\n",
       "    </tr>\n",
       "    <tr>\n",
       "      <th>1996</th>\n",
       "      <td>False</td>\n",
       "      <td>True</td>\n",
       "    </tr>\n",
       "    <tr>\n",
       "      <th>1997</th>\n",
       "      <td>True</td>\n",
       "      <td>False</td>\n",
       "    </tr>\n",
       "    <tr>\n",
       "      <th>1998</th>\n",
       "      <td>True</td>\n",
       "      <td>False</td>\n",
       "    </tr>\n",
       "    <tr>\n",
       "      <th>1999</th>\n",
       "      <td>False</td>\n",
       "      <td>True</td>\n",
       "    </tr>\n",
       "  </tbody>\n",
       "</table>\n",
       "<p>2000 rows × 2 columns</p>\n",
       "</div>"
      ],
      "text/plain": [
       "      A-coref  B-coref\n",
       "0        True    False\n",
       "1        True    False\n",
       "2       False     True\n",
       "3       False     True\n",
       "4       False     True\n",
       "...       ...      ...\n",
       "1995    False     True\n",
       "1996    False     True\n",
       "1997     True    False\n",
       "1998     True    False\n",
       "1999    False     True\n",
       "\n",
       "[2000 rows x 2 columns]"
      ]
     },
     "execution_count": 46,
     "metadata": {},
     "output_type": "execute_result"
    }
   ],
   "source": [
    "# target (train dataset)\n",
    "y_train"
   ]
  },
  {
   "attachments": {},
   "cell_type": "markdown",
   "metadata": {},
   "source": [
    "- Puede haber casos en los que la respuesta sea A-coref == False y B-coref == False, lo que indica que el pronombre no hace referencia a ninguno de los nombres propuestos. "
   ]
  },
  {
   "cell_type": "code",
   "execution_count": null,
   "metadata": {},
   "outputs": [],
   "source": []
  }
 ],
 "metadata": {
  "kernelspec": {
   "display_name": "Python 3",
   "language": "python",
   "name": "python3"
  },
  "language_info": {
   "codemirror_mode": {
    "name": "ipython",
    "version": 3
   },
   "file_extension": ".py",
   "mimetype": "text/x-python",
   "name": "python",
   "nbconvert_exporter": "python",
   "pygments_lexer": "ipython3",
   "version": "3.9.16"
  },
  "orig_nbformat": 4
 },
 "nbformat": 4,
 "nbformat_minor": 2
}
