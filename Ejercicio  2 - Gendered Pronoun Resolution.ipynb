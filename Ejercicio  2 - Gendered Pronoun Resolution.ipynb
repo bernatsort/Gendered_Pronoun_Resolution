{
 "cells": [
  {
   "cell_type": "markdown",
   "metadata": {},
   "source": [
    "# Ejercicio 2 a entregar: *Gendered Pronoun Resolution*\n",
    "\n",
    "En el análisis de texto natural, existen oraciones complejas de entender incluso para las personas. Uno de los casos más conflictivos son los pronombres ambiguos. En 2018, se publicó un dataset junto con el paper [A Balanced Corpus of Gendered Ambiguous Pronouns](https://arxiv.org/pdf/1810.05201.pdf), donde se proponen un conjunto de textos con pronombres ambiguos con género.\n",
    "\n",
    "El objetivo de este dataset es encontrar el nombre en el texto al que el pronombre ambiguo hace referencia.\n",
    "\n",
    "Para ello se nos da un dataset con los siguientes campos:\n",
    "\n",
    "* `ID`: Identificador de la frase.\n",
    "* `Text`: Texto en fromato string.\n",
    "* `Pronoun`: string con el pronombre ambiguo.\n",
    "* `Pronoun-offset`: índice del carácter donde empieza el pronombre dentro del texto.\n",
    "* `A`: string con el primer nombre candidato a hacer referencia por el pronombre.\n",
    "* `A-offset`: índice del carácter donde empieza el nombre A dentro del texto.\n",
    "* `A-coref`: boleano indicando si el pronombre hace referencia al nombre A.\n",
    "* `B`: string con el segundo nombre candidato a hacer referencia por el pronombre.\n",
    "* `B-offset`: índice del carácter donde empieza el nombre B dentro del texto.\n",
    "* `B-coref`: boleano indicando si el pronombre hace referencia al nombre B.\n",
    "* `URL`: web de donde se ha sacado el fragmento de texto.\n",
    "\n",
    "## Enunciado:\n",
    "\n",
    "Hacer una predicción de a cuál de los dos nombres marcados en cada frase hace referencia el pronombre seleccionado usando **dos modelos distintos** de PNL siguiendo el formato descrito a continuación:\n",
    "\n",
    "* **MODELO 1**: Puede ser **cualquier modelo visto en los seminarios de PLN o en otras asignaturas**, como: Count vectorizer, HMM, Structured Perceptron, RNN, Logistic Regressor, XGBoost, etc...\n",
    "\n",
    "    * Justificar el porqué del modelo elegido.\n",
    "    * Entrenar el modelo.\n",
    "    * Dar una accuracy del modelo.\n",
    "    * Interpretar y explicar los resultados del modelo.\n",
    " \n",
    "\n",
    "* **MODELO 2**: Debe ser un modelo **basado en Transformers** que incorpore el concepto de ***attention***.\n",
    "\n",
    "    * Justificar el porqué del modelo elegido.\n",
    "    * Entrenar el modelo.\n",
    "    * Dar una accuracy del modelo.\n",
    "    * Interpretar y explicar los resultados del modelo.    \n",
    "    \n",
    "    \n",
    "### Entrega\n",
    "\n",
    "* **FORMATO**: Debe entregarse un Jupyter Notebook (puede ser este mismo o uno nuevo) con los dos modelos entrenados. Las justificaciones y explicaciones de los modelos y resultados pueden estar en la misma Notebook o entregar un documento PDF a parte.\n",
    "\n",
    "* **FECHA DE ENTREGA**: El ejercicio debe entregarse el dia 16/05/2023 en el pozo correspondiente del e-study.\n",
    "\n",
    "\n",
    "_________________________________________________\n",
    "\n",
    "### Lectura de los datos:"
   ]
  },
  {
   "cell_type": "code",
   "execution_count": 1,
   "metadata": {},
   "outputs": [],
   "source": [
    "import pandas as pd\n",
    "import numpy as np\n",
    "\n",
    "import colorama\n",
    "from colorama import Fore"
   ]
  },
  {
   "cell_type": "code",
   "execution_count": 2,
   "metadata": {
    "scrolled": true
   },
   "outputs": [],
   "source": [
    "data_df = pd.read_csv('./input/gap-coreference-master/gap-development.tsv', delimiter='\\t')"
   ]
  },
  {
   "cell_type": "code",
   "execution_count": 3,
   "metadata": {},
   "outputs": [
    {
     "data": {
      "text/html": [
       "<div>\n",
       "<style scoped>\n",
       "    .dataframe tbody tr th:only-of-type {\n",
       "        vertical-align: middle;\n",
       "    }\n",
       "\n",
       "    .dataframe tbody tr th {\n",
       "        vertical-align: top;\n",
       "    }\n",
       "\n",
       "    .dataframe thead th {\n",
       "        text-align: right;\n",
       "    }\n",
       "</style>\n",
       "<table border=\"1\" class=\"dataframe\">\n",
       "  <thead>\n",
       "    <tr style=\"text-align: right;\">\n",
       "      <th></th>\n",
       "      <th>ID</th>\n",
       "      <th>Text</th>\n",
       "      <th>Pronoun</th>\n",
       "      <th>Pronoun-offset</th>\n",
       "      <th>A</th>\n",
       "      <th>A-offset</th>\n",
       "      <th>A-coref</th>\n",
       "      <th>B</th>\n",
       "      <th>B-offset</th>\n",
       "      <th>B-coref</th>\n",
       "      <th>URL</th>\n",
       "    </tr>\n",
       "  </thead>\n",
       "  <tbody>\n",
       "    <tr>\n",
       "      <th>0</th>\n",
       "      <td>development-1</td>\n",
       "      <td>Zoe Telford -- played the police officer girlf...</td>\n",
       "      <td>her</td>\n",
       "      <td>274</td>\n",
       "      <td>Cheryl Cassidy</td>\n",
       "      <td>191</td>\n",
       "      <td>True</td>\n",
       "      <td>Pauline</td>\n",
       "      <td>207</td>\n",
       "      <td>False</td>\n",
       "      <td>http://en.wikipedia.org/wiki/List_of_Teachers_...</td>\n",
       "    </tr>\n",
       "    <tr>\n",
       "      <th>1</th>\n",
       "      <td>development-2</td>\n",
       "      <td>He grew up in Evanston, Illinois the second ol...</td>\n",
       "      <td>His</td>\n",
       "      <td>284</td>\n",
       "      <td>MacKenzie</td>\n",
       "      <td>228</td>\n",
       "      <td>True</td>\n",
       "      <td>Bernard Leach</td>\n",
       "      <td>251</td>\n",
       "      <td>False</td>\n",
       "      <td>http://en.wikipedia.org/wiki/Warren_MacKenzie</td>\n",
       "    </tr>\n",
       "    <tr>\n",
       "      <th>2</th>\n",
       "      <td>development-3</td>\n",
       "      <td>He had been reelected to Congress, but resigne...</td>\n",
       "      <td>his</td>\n",
       "      <td>265</td>\n",
       "      <td>Angeloz</td>\n",
       "      <td>173</td>\n",
       "      <td>False</td>\n",
       "      <td>De la Sota</td>\n",
       "      <td>246</td>\n",
       "      <td>True</td>\n",
       "      <td>http://en.wikipedia.org/wiki/Jos%C3%A9_Manuel_...</td>\n",
       "    </tr>\n",
       "    <tr>\n",
       "      <th>3</th>\n",
       "      <td>development-4</td>\n",
       "      <td>The current members of Crime have also perform...</td>\n",
       "      <td>his</td>\n",
       "      <td>321</td>\n",
       "      <td>Hell</td>\n",
       "      <td>174</td>\n",
       "      <td>False</td>\n",
       "      <td>Henry Rosenthal</td>\n",
       "      <td>336</td>\n",
       "      <td>True</td>\n",
       "      <td>http://en.wikipedia.org/wiki/Crime_(band)</td>\n",
       "    </tr>\n",
       "    <tr>\n",
       "      <th>4</th>\n",
       "      <td>development-5</td>\n",
       "      <td>Her Santa Fe Opera debut in 2005 was as Nuria ...</td>\n",
       "      <td>She</td>\n",
       "      <td>437</td>\n",
       "      <td>Kitty Oppenheimer</td>\n",
       "      <td>219</td>\n",
       "      <td>False</td>\n",
       "      <td>Rivera</td>\n",
       "      <td>294</td>\n",
       "      <td>True</td>\n",
       "      <td>http://en.wikipedia.org/wiki/Jessica_Rivera</td>\n",
       "    </tr>\n",
       "  </tbody>\n",
       "</table>\n",
       "</div>"
      ],
      "text/plain": [
       "              ID                                               Text Pronoun  \\\n",
       "0  development-1  Zoe Telford -- played the police officer girlf...     her   \n",
       "1  development-2  He grew up in Evanston, Illinois the second ol...     His   \n",
       "2  development-3  He had been reelected to Congress, but resigne...     his   \n",
       "3  development-4  The current members of Crime have also perform...     his   \n",
       "4  development-5  Her Santa Fe Opera debut in 2005 was as Nuria ...     She   \n",
       "\n",
       "   Pronoun-offset                  A  A-offset  A-coref                B  \\\n",
       "0             274     Cheryl Cassidy       191     True          Pauline   \n",
       "1             284          MacKenzie       228     True    Bernard Leach   \n",
       "2             265            Angeloz       173    False       De la Sota   \n",
       "3             321               Hell       174    False  Henry Rosenthal   \n",
       "4             437  Kitty Oppenheimer       219    False           Rivera   \n",
       "\n",
       "   B-offset  B-coref                                                URL  \n",
       "0       207    False  http://en.wikipedia.org/wiki/List_of_Teachers_...  \n",
       "1       251    False      http://en.wikipedia.org/wiki/Warren_MacKenzie  \n",
       "2       246     True  http://en.wikipedia.org/wiki/Jos%C3%A9_Manuel_...  \n",
       "3       336     True          http://en.wikipedia.org/wiki/Crime_(band)  \n",
       "4       294     True        http://en.wikipedia.org/wiki/Jessica_Rivera  "
      ]
     },
     "execution_count": 3,
     "metadata": {},
     "output_type": "execute_result"
    }
   ],
   "source": [
    "data_df.head()"
   ]
  },
  {
   "cell_type": "code",
   "execution_count": 4,
   "metadata": {},
   "outputs": [],
   "source": [
    "def gap_printer2(data_df_row):\n",
    "        \n",
    "    text   = data_df_row[\"Text\"]\n",
    "    word_A = data_df_row[\"A\"]\n",
    "    word_B = data_df_row[\"B\"]\n",
    "    \n",
    "    pronoun       = data_df_row[\"Pronoun\"]\n",
    "    pronoun_begin = data_df_row[\"Pronoun-offset\"]\n",
    "    pronoun_end   = pronoun_begin + len(pronoun)\n",
    "    \n",
    "    word_A_begin = data_df_row[\"A-offset\"]\n",
    "    word_A_end   = data_df_row[\"A-offset\"] + len(word_A)\n",
    "    word_B_begin = data_df_row[\"B-offset\"]\n",
    "    word_B_end   = data_df_row[\"B-offset\"] + len(word_B)\n",
    "    \n",
    "    text_c = text.replace(word_A, \" {} \")\n",
    "    text_c = text.replace(word_B, \" {} \")\n",
    "    text_c = text.replace(pronoun, \" {} \")\n",
    "    \n",
    "    word_boundaries = np.sort([word_A_begin, word_A_end, pronoun_begin, pronoun_end, word_B_begin, word_B_end])\n",
    "    word_boundaries = list(zip(word_boundaries[::2], word_boundaries[1::2]))\n",
    "    \n",
    "    P1 = [0,word_boundaries[0][0]]\n",
    "    P2 = [word_boundaries[0][1],word_boundaries[1][0]]\n",
    "    P3 = [word_boundaries[1][1],word_boundaries[2][0]]\n",
    "    P4 = [word_boundaries[2][1],len(text)]\n",
    "\n",
    "    text_f = text[P1[0]:P1[1]] + \"{}\" + text[P2[0]:P2[1]] +  \"{}\" + text[P3[0]:P3[1]] + \"{}\" + text[P4[0]:P4[1]]\n",
    " \n",
    "    print(text_f.format( Fore.BLUE  + text[word_boundaries[0][0]:word_boundaries[0][1]]  + Fore.BLACK,\n",
    "                         Fore.BLUE  + text[word_boundaries[1][0]:word_boundaries[1][1]] + Fore.BLACK,\n",
    "                         Fore.BLUE  + text[word_boundaries[2][0]:word_boundaries[2][1]]  + Fore.BLACK))"
   ]
  },
  {
   "cell_type": "code",
   "execution_count": 5,
   "metadata": {},
   "outputs": [
    {
     "name": "stdout",
     "output_type": "stream",
     "text": [
      "The current members of Crime have also performed in San Francisco under the band name ''Remote Viewers``. Strike has published two works of fiction in recent years: Ports of \u001b[34mHell\u001b[30m, which is listed in the Rock and Roll Hall of Fame Library, and A Loud Humming Sound Came from Above. Rank has produced numerous films (under \u001b[34mhis\u001b[30m real name, \u001b[34mHenry Rosenthal\u001b[30m) including the hit The Devil and Daniel Johnston.\n"
     ]
    }
   ],
   "source": [
    "gap_printer2(data_df.loc[3])"
   ]
  },
  {
   "cell_type": "code",
   "execution_count": 6,
   "metadata": {},
   "outputs": [
    {
     "data": {
      "text/plain": [
       "'http://en.wikipedia.org/wiki/Warren_MacKenzie'"
      ]
     },
     "execution_count": 6,
     "metadata": {},
     "output_type": "execute_result"
    }
   ],
   "source": [
    "url = data_df[\"URL\"][1]\n",
    "url"
   ]
  },
  {
   "cell_type": "code",
   "execution_count": 7,
   "metadata": {},
   "outputs": [
    {
     "data": {
      "text/plain": [
       "'He grew up in Evanston, Illinois the second oldest of five children including his brothers, Fred and Gordon and sisters, Marge (Peppy) and Marilyn. His high school days were spent at New Trier High School in Winnetka, Illinois. MacKenzie studied with Bernard Leach from 1949 to 1952. His simple, wheel-thrown functional pottery is heavily influenced by the oriental aesthetic of Shoji Hamada and Kanjiro Kawai.'"
      ]
     },
     "execution_count": 7,
     "metadata": {},
     "output_type": "execute_result"
    }
   ],
   "source": [
    "text = data_df[\"Text\"][1]\n",
    "text"
   ]
  },
  {
   "cell_type": "code",
   "execution_count": 10,
   "metadata": {},
   "outputs": [
    {
     "data": {
      "text/plain": [
       "'His'"
      ]
     },
     "execution_count": 10,
     "metadata": {},
     "output_type": "execute_result"
    }
   ],
   "source": [
    "pronoun = data_df[\"Pronoun\"][1]\n",
    "pronoun"
   ]
  },
  {
   "cell_type": "code",
   "execution_count": 11,
   "metadata": {},
   "outputs": [
    {
     "data": {
      "text/plain": [
       "284"
      ]
     },
     "execution_count": 11,
     "metadata": {},
     "output_type": "execute_result"
    }
   ],
   "source": [
    "pronoun_offset = data_df[\"Pronoun-offset\"][1]\n",
    "pronoun_offset"
   ]
  },
  {
   "cell_type": "code",
   "execution_count": 12,
   "metadata": {},
   "outputs": [
    {
     "data": {
      "text/plain": [
       "'His'"
      ]
     },
     "execution_count": 12,
     "metadata": {},
     "output_type": "execute_result"
    }
   ],
   "source": [
    "text[pronoun_offset:pronoun_offset+len(pronoun)]"
   ]
  },
  {
   "cell_type": "code",
   "execution_count": 13,
   "metadata": {},
   "outputs": [
    {
     "data": {
      "text/plain": [
       "('MacKenzie', 228)"
      ]
     },
     "execution_count": 13,
     "metadata": {},
     "output_type": "execute_result"
    }
   ],
   "source": [
    "A = data_df[\"A\"][1]\n",
    "A_offset = data_df[\"A-offset\"][1]\n",
    "A, A_offset"
   ]
  },
  {
   "cell_type": "code",
   "execution_count": 14,
   "metadata": {},
   "outputs": [
    {
     "data": {
      "text/plain": [
       "'MacKenzie'"
      ]
     },
     "execution_count": 14,
     "metadata": {},
     "output_type": "execute_result"
    }
   ],
   "source": [
    "text[A_offset:A_offset+len(A)]"
   ]
  },
  {
   "cell_type": "code",
   "execution_count": 15,
   "metadata": {},
   "outputs": [
    {
     "data": {
      "text/plain": [
       "('Bernard Leach', 251)"
      ]
     },
     "execution_count": 15,
     "metadata": {},
     "output_type": "execute_result"
    }
   ],
   "source": [
    "B = data_df[\"B\"][1]\n",
    "B_offset = data_df[\"B-offset\"][1]\n",
    "B, B_offset"
   ]
  },
  {
   "cell_type": "code",
   "execution_count": 16,
   "metadata": {},
   "outputs": [
    {
     "data": {
      "text/plain": [
       "'Bernard Leach'"
      ]
     },
     "execution_count": 16,
     "metadata": {},
     "output_type": "execute_result"
    }
   ],
   "source": [
    "text[B_offset:B_offset+len(B)]"
   ]
  },
  {
   "cell_type": "code",
   "execution_count": 17,
   "metadata": {},
   "outputs": [],
   "source": [
    "x_data = data_df[[\"Text\", \"Pronoun\", \"Pronoun-offset\", \"A\", \"A-offset\", \"B\", \"B-offset\"]]\n",
    "y_data = data_df[[\"A-coref\", \"B-coref\"]]"
   ]
  },
  {
   "cell_type": "code",
   "execution_count": 18,
   "metadata": {},
   "outputs": [],
   "source": [
    "x_train = x_data.loc[:1500,:]\n",
    "y_train = y_data.loc[:1500,:]\n",
    "x_test = x_data.loc[1500:,:]\n",
    "x_test = x_test.reset_index()\n",
    "y_test = y_data.loc[1500:,:]\n",
    "y_test = y_test.reset_index()"
   ]
  },
  {
   "cell_type": "code",
   "execution_count": 19,
   "metadata": {},
   "outputs": [
    {
     "data": {
      "text/html": [
       "<div>\n",
       "<style scoped>\n",
       "    .dataframe tbody tr th:only-of-type {\n",
       "        vertical-align: middle;\n",
       "    }\n",
       "\n",
       "    .dataframe tbody tr th {\n",
       "        vertical-align: top;\n",
       "    }\n",
       "\n",
       "    .dataframe thead th {\n",
       "        text-align: right;\n",
       "    }\n",
       "</style>\n",
       "<table border=\"1\" class=\"dataframe\">\n",
       "  <thead>\n",
       "    <tr style=\"text-align: right;\">\n",
       "      <th></th>\n",
       "      <th>Text</th>\n",
       "      <th>Pronoun</th>\n",
       "      <th>Pronoun-offset</th>\n",
       "      <th>A</th>\n",
       "      <th>A-offset</th>\n",
       "      <th>B</th>\n",
       "      <th>B-offset</th>\n",
       "    </tr>\n",
       "  </thead>\n",
       "  <tbody>\n",
       "    <tr>\n",
       "      <th>0</th>\n",
       "      <td>Zoe Telford -- played the police officer girlf...</td>\n",
       "      <td>her</td>\n",
       "      <td>274</td>\n",
       "      <td>Cheryl Cassidy</td>\n",
       "      <td>191</td>\n",
       "      <td>Pauline</td>\n",
       "      <td>207</td>\n",
       "    </tr>\n",
       "    <tr>\n",
       "      <th>1</th>\n",
       "      <td>He grew up in Evanston, Illinois the second ol...</td>\n",
       "      <td>His</td>\n",
       "      <td>284</td>\n",
       "      <td>MacKenzie</td>\n",
       "      <td>228</td>\n",
       "      <td>Bernard Leach</td>\n",
       "      <td>251</td>\n",
       "    </tr>\n",
       "    <tr>\n",
       "      <th>2</th>\n",
       "      <td>He had been reelected to Congress, but resigne...</td>\n",
       "      <td>his</td>\n",
       "      <td>265</td>\n",
       "      <td>Angeloz</td>\n",
       "      <td>173</td>\n",
       "      <td>De la Sota</td>\n",
       "      <td>246</td>\n",
       "    </tr>\n",
       "    <tr>\n",
       "      <th>3</th>\n",
       "      <td>The current members of Crime have also perform...</td>\n",
       "      <td>his</td>\n",
       "      <td>321</td>\n",
       "      <td>Hell</td>\n",
       "      <td>174</td>\n",
       "      <td>Henry Rosenthal</td>\n",
       "      <td>336</td>\n",
       "    </tr>\n",
       "    <tr>\n",
       "      <th>4</th>\n",
       "      <td>Her Santa Fe Opera debut in 2005 was as Nuria ...</td>\n",
       "      <td>She</td>\n",
       "      <td>437</td>\n",
       "      <td>Kitty Oppenheimer</td>\n",
       "      <td>219</td>\n",
       "      <td>Rivera</td>\n",
       "      <td>294</td>\n",
       "    </tr>\n",
       "    <tr>\n",
       "      <th>...</th>\n",
       "      <td>...</td>\n",
       "      <td>...</td>\n",
       "      <td>...</td>\n",
       "      <td>...</td>\n",
       "      <td>...</td>\n",
       "      <td>...</td>\n",
       "      <td>...</td>\n",
       "    </tr>\n",
       "    <tr>\n",
       "      <th>1496</th>\n",
       "      <td>In 2014, Rockov also signed his first professi...</td>\n",
       "      <td>he</td>\n",
       "      <td>282</td>\n",
       "      <td>Nemanja Buzad*ija</td>\n",
       "      <td>395</td>\n",
       "      <td>Rockov</td>\n",
       "      <td>446</td>\n",
       "    </tr>\n",
       "    <tr>\n",
       "      <th>1497</th>\n",
       "      <td>Mr Telford was of the most genial disposition ...</td>\n",
       "      <td>him</td>\n",
       "      <td>209</td>\n",
       "      <td>George Turnbull</td>\n",
       "      <td>158</td>\n",
       "      <td>Telford</td>\n",
       "      <td>186</td>\n",
       "    </tr>\n",
       "    <tr>\n",
       "      <th>1498</th>\n",
       "      <td>In 1865, the theatre was renovated and named t...</td>\n",
       "      <td>He</td>\n",
       "      <td>306</td>\n",
       "      <td>Henry Byron</td>\n",
       "      <td>184</td>\n",
       "      <td>Squire Bancroft</td>\n",
       "      <td>289</td>\n",
       "    </tr>\n",
       "    <tr>\n",
       "      <th>1499</th>\n",
       "      <td>As well as similarities as regards the type of...</td>\n",
       "      <td>his</td>\n",
       "      <td>399</td>\n",
       "      <td>Don Quixote</td>\n",
       "      <td>303</td>\n",
       "      <td>Cervantes</td>\n",
       "      <td>518</td>\n",
       "    </tr>\n",
       "    <tr>\n",
       "      <th>1500</th>\n",
       "      <td>Yahya Goba is a Yemeni-American who grew up in...</td>\n",
       "      <td>he</td>\n",
       "      <td>90</td>\n",
       "      <td>Yahya Goba</td>\n",
       "      <td>0</td>\n",
       "      <td>Yemeni-American</td>\n",
       "      <td>16</td>\n",
       "    </tr>\n",
       "  </tbody>\n",
       "</table>\n",
       "<p>1501 rows × 7 columns</p>\n",
       "</div>"
      ],
      "text/plain": [
       "                                                   Text Pronoun  \\\n",
       "0     Zoe Telford -- played the police officer girlf...     her   \n",
       "1     He grew up in Evanston, Illinois the second ol...     His   \n",
       "2     He had been reelected to Congress, but resigne...     his   \n",
       "3     The current members of Crime have also perform...     his   \n",
       "4     Her Santa Fe Opera debut in 2005 was as Nuria ...     She   \n",
       "...                                                 ...     ...   \n",
       "1496  In 2014, Rockov also signed his first professi...      he   \n",
       "1497  Mr Telford was of the most genial disposition ...     him   \n",
       "1498  In 1865, the theatre was renovated and named t...      He   \n",
       "1499  As well as similarities as regards the type of...     his   \n",
       "1500  Yahya Goba is a Yemeni-American who grew up in...      he   \n",
       "\n",
       "      Pronoun-offset                  A  A-offset                B  B-offset  \n",
       "0                274     Cheryl Cassidy       191          Pauline       207  \n",
       "1                284          MacKenzie       228    Bernard Leach       251  \n",
       "2                265            Angeloz       173       De la Sota       246  \n",
       "3                321               Hell       174  Henry Rosenthal       336  \n",
       "4                437  Kitty Oppenheimer       219           Rivera       294  \n",
       "...              ...                ...       ...              ...       ...  \n",
       "1496             282  Nemanja Buzad*ija       395           Rockov       446  \n",
       "1497             209    George Turnbull       158          Telford       186  \n",
       "1498             306        Henry Byron       184  Squire Bancroft       289  \n",
       "1499             399        Don Quixote       303        Cervantes       518  \n",
       "1500              90         Yahya Goba         0  Yemeni-American        16  \n",
       "\n",
       "[1501 rows x 7 columns]"
      ]
     },
     "execution_count": 19,
     "metadata": {},
     "output_type": "execute_result"
    }
   ],
   "source": [
    "x_train"
   ]
  },
  {
   "cell_type": "code",
   "execution_count": 20,
   "metadata": {},
   "outputs": [
    {
     "data": {
      "text/html": [
       "<div>\n",
       "<style scoped>\n",
       "    .dataframe tbody tr th:only-of-type {\n",
       "        vertical-align: middle;\n",
       "    }\n",
       "\n",
       "    .dataframe tbody tr th {\n",
       "        vertical-align: top;\n",
       "    }\n",
       "\n",
       "    .dataframe thead th {\n",
       "        text-align: right;\n",
       "    }\n",
       "</style>\n",
       "<table border=\"1\" class=\"dataframe\">\n",
       "  <thead>\n",
       "    <tr style=\"text-align: right;\">\n",
       "      <th></th>\n",
       "      <th>A-coref</th>\n",
       "      <th>B-coref</th>\n",
       "    </tr>\n",
       "  </thead>\n",
       "  <tbody>\n",
       "    <tr>\n",
       "      <th>0</th>\n",
       "      <td>True</td>\n",
       "      <td>False</td>\n",
       "    </tr>\n",
       "    <tr>\n",
       "      <th>1</th>\n",
       "      <td>True</td>\n",
       "      <td>False</td>\n",
       "    </tr>\n",
       "    <tr>\n",
       "      <th>2</th>\n",
       "      <td>False</td>\n",
       "      <td>True</td>\n",
       "    </tr>\n",
       "    <tr>\n",
       "      <th>3</th>\n",
       "      <td>False</td>\n",
       "      <td>True</td>\n",
       "    </tr>\n",
       "    <tr>\n",
       "      <th>4</th>\n",
       "      <td>False</td>\n",
       "      <td>True</td>\n",
       "    </tr>\n",
       "    <tr>\n",
       "      <th>...</th>\n",
       "      <td>...</td>\n",
       "      <td>...</td>\n",
       "    </tr>\n",
       "    <tr>\n",
       "      <th>1496</th>\n",
       "      <td>False</td>\n",
       "      <td>True</td>\n",
       "    </tr>\n",
       "    <tr>\n",
       "      <th>1497</th>\n",
       "      <td>True</td>\n",
       "      <td>False</td>\n",
       "    </tr>\n",
       "    <tr>\n",
       "      <th>1498</th>\n",
       "      <td>False</td>\n",
       "      <td>True</td>\n",
       "    </tr>\n",
       "    <tr>\n",
       "      <th>1499</th>\n",
       "      <td>False</td>\n",
       "      <td>False</td>\n",
       "    </tr>\n",
       "    <tr>\n",
       "      <th>1500</th>\n",
       "      <td>True</td>\n",
       "      <td>False</td>\n",
       "    </tr>\n",
       "  </tbody>\n",
       "</table>\n",
       "<p>1501 rows × 2 columns</p>\n",
       "</div>"
      ],
      "text/plain": [
       "      A-coref  B-coref\n",
       "0        True    False\n",
       "1        True    False\n",
       "2       False     True\n",
       "3       False     True\n",
       "4       False     True\n",
       "...       ...      ...\n",
       "1496    False     True\n",
       "1497     True    False\n",
       "1498    False     True\n",
       "1499    False    False\n",
       "1500     True    False\n",
       "\n",
       "[1501 rows x 2 columns]"
      ]
     },
     "execution_count": 20,
     "metadata": {},
     "output_type": "execute_result"
    }
   ],
   "source": [
    "y_train"
   ]
  },
  {
   "cell_type": "code",
   "execution_count": null,
   "metadata": {},
   "outputs": [],
   "source": []
  }
 ],
 "metadata": {
  "kernelspec": {
   "display_name": "Python 3 (ipykernel)",
   "language": "python",
   "name": "python3"
  },
  "language_info": {
   "codemirror_mode": {
    "name": "ipython",
    "version": 3
   },
   "file_extension": ".py",
   "mimetype": "text/x-python",
   "name": "python",
   "nbconvert_exporter": "python",
   "pygments_lexer": "ipython3",
   "version": "3.8.10"
  }
 },
 "nbformat": 4,
 "nbformat_minor": 4
}
